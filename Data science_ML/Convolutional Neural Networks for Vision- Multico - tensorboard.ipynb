{
 "cells": [
  {
   "cell_type": "markdown",
   "id": "b250d7bd",
   "metadata": {},
   "source": [
    "# Introduction"
   ]
  },
  {
   "cell_type": "markdown",
   "id": "7086eab1",
   "metadata": {},
   "source": [
    "create a CNN also called convent or Convolutional Neural Networks.\n",
    "- Computer Vision Applications\n",
    "- Recognise hand written digits and characters\n",
    "- Recognise objects in images and videos \n",
    "- Non-vision applications - Natural Language processing , Recommender systems \n",
    "\n",
    "- 60,000 labeled digital images - training and testing 10,000\n",
    "- 28 by 28 pixels - 784 features - Numpy arrays- grayscale pixel intensity (0-255)\n",
    "- Convent - probabilistic clasification\n",
    "- 0,1,2,3,4,5,6,7,8,9\n",
    "  0.92 0.004, - highest probability is the predicted value "
   ]
  },
  {
   "cell_type": "code",
   "execution_count": 1,
   "id": "619578cb",
   "metadata": {},
   "outputs": [
    {
     "data": {
      "text/plain": [
       "70000"
      ]
     },
     "execution_count": 1,
     "metadata": {},
     "output_type": "execute_result"
    }
   ],
   "source": [
    "60000+10000"
   ]
  },
  {
   "cell_type": "code",
   "execution_count": 2,
   "id": "8a7506e4",
   "metadata": {
    "scrolled": true
   },
   "outputs": [
    {
     "data": {
      "text/plain": [
       "85.71428571428571"
      ]
     },
     "execution_count": 2,
     "metadata": {},
     "output_type": "execute_result"
    }
   ],
   "source": [
    "60000/70000 * 100"
   ]
  },
  {
   "cell_type": "code",
   "execution_count": 3,
   "id": "becc145f",
   "metadata": {},
   "outputs": [
    {
     "data": {
      "text/plain": [
       "784"
      ]
     },
     "execution_count": 3,
     "metadata": {},
     "output_type": "execute_result"
    }
   ],
   "source": [
    "28 * 28"
   ]
  },
  {
   "cell_type": "markdown",
   "id": "929904b7",
   "metadata": {},
   "source": [
    " #Reproducability in keras and deep learning \n",
    "- Computations are done in parallel (floating points calculations)\n",
    "- can produce different results in each "
   ]
  },
  {
   "cell_type": "code",
   "execution_count": 4,
   "id": "893626de",
   "metadata": {},
   "outputs": [],
   "source": [
    "from tensorflow.keras.datasets import mnist"
   ]
  },
  {
   "cell_type": "code",
   "execution_count": 5,
   "id": "0c5b1924",
   "metadata": {},
   "outputs": [],
   "source": [
    "(X_train, Y_train), (X_test, Y_test)= mnist.load_data()"
   ]
  },
  {
   "cell_type": "code",
   "execution_count": 6,
   "id": "441ef38e",
   "metadata": {},
   "outputs": [
    {
     "data": {
      "text/plain": [
       "(60000,)"
      ]
     },
     "execution_count": 6,
     "metadata": {},
     "output_type": "execute_result"
    }
   ],
   "source": [
    "Y_train.shape"
   ]
  },
  {
   "cell_type": "code",
   "execution_count": 7,
   "id": "c6350cf7",
   "metadata": {},
   "outputs": [
    {
     "data": {
      "text/plain": [
       "(60000, 28, 28)"
      ]
     },
     "execution_count": 7,
     "metadata": {},
     "output_type": "execute_result"
    }
   ],
   "source": [
    "X_train.shape"
   ]
  },
  {
   "cell_type": "code",
   "execution_count": 8,
   "id": "cd87100d",
   "metadata": {},
   "outputs": [
    {
     "data": {
      "text/plain": [
       "array([[[0, 0, 0, ..., 0, 0, 0],\n",
       "        [0, 0, 0, ..., 0, 0, 0],\n",
       "        [0, 0, 0, ..., 0, 0, 0],\n",
       "        ...,\n",
       "        [0, 0, 0, ..., 0, 0, 0],\n",
       "        [0, 0, 0, ..., 0, 0, 0],\n",
       "        [0, 0, 0, ..., 0, 0, 0]],\n",
       "\n",
       "       [[0, 0, 0, ..., 0, 0, 0],\n",
       "        [0, 0, 0, ..., 0, 0, 0],\n",
       "        [0, 0, 0, ..., 0, 0, 0],\n",
       "        ...,\n",
       "        [0, 0, 0, ..., 0, 0, 0],\n",
       "        [0, 0, 0, ..., 0, 0, 0],\n",
       "        [0, 0, 0, ..., 0, 0, 0]],\n",
       "\n",
       "       [[0, 0, 0, ..., 0, 0, 0],\n",
       "        [0, 0, 0, ..., 0, 0, 0],\n",
       "        [0, 0, 0, ..., 0, 0, 0],\n",
       "        ...,\n",
       "        [0, 0, 0, ..., 0, 0, 0],\n",
       "        [0, 0, 0, ..., 0, 0, 0],\n",
       "        [0, 0, 0, ..., 0, 0, 0]],\n",
       "\n",
       "       ...,\n",
       "\n",
       "       [[0, 0, 0, ..., 0, 0, 0],\n",
       "        [0, 0, 0, ..., 0, 0, 0],\n",
       "        [0, 0, 0, ..., 0, 0, 0],\n",
       "        ...,\n",
       "        [0, 0, 0, ..., 0, 0, 0],\n",
       "        [0, 0, 0, ..., 0, 0, 0],\n",
       "        [0, 0, 0, ..., 0, 0, 0]],\n",
       "\n",
       "       [[0, 0, 0, ..., 0, 0, 0],\n",
       "        [0, 0, 0, ..., 0, 0, 0],\n",
       "        [0, 0, 0, ..., 0, 0, 0],\n",
       "        ...,\n",
       "        [0, 0, 0, ..., 0, 0, 0],\n",
       "        [0, 0, 0, ..., 0, 0, 0],\n",
       "        [0, 0, 0, ..., 0, 0, 0]],\n",
       "\n",
       "       [[0, 0, 0, ..., 0, 0, 0],\n",
       "        [0, 0, 0, ..., 0, 0, 0],\n",
       "        [0, 0, 0, ..., 0, 0, 0],\n",
       "        ...,\n",
       "        [0, 0, 0, ..., 0, 0, 0],\n",
       "        [0, 0, 0, ..., 0, 0, 0],\n",
       "        [0, 0, 0, ..., 0, 0, 0]]], dtype=uint8)"
      ]
     },
     "execution_count": 8,
     "metadata": {},
     "output_type": "execute_result"
    }
   ],
   "source": [
    "X_train"
   ]
  },
  {
   "cell_type": "code",
   "execution_count": 9,
   "id": "05767d3a",
   "metadata": {},
   "outputs": [
    {
     "data": {
      "text/plain": [
       "3"
      ]
     },
     "execution_count": 9,
     "metadata": {},
     "output_type": "execute_result"
    }
   ],
   "source": [
    "Y_train[10]"
   ]
  },
  {
   "cell_type": "code",
   "execution_count": 10,
   "id": "b179b265",
   "metadata": {},
   "outputs": [
    {
     "data": {
      "text/plain": [
       "0"
      ]
     },
     "execution_count": 10,
     "metadata": {},
     "output_type": "execute_result"
    }
   ],
   "source": [
    "Y_train[1]"
   ]
  },
  {
   "cell_type": "code",
   "execution_count": 11,
   "id": "12c4b401",
   "metadata": {},
   "outputs": [
    {
     "data": {
      "text/plain": [
       "0"
      ]
     },
     "execution_count": 11,
     "metadata": {},
     "output_type": "execute_result"
    }
   ],
   "source": [
    "Y_train[1000]"
   ]
  },
  {
   "cell_type": "code",
   "execution_count": 12,
   "id": "4b4f5c6e",
   "metadata": {},
   "outputs": [],
   "source": [
    "# Visualisation of the digits"
   ]
  },
  {
   "cell_type": "code",
   "execution_count": 13,
   "id": "0a4534d4",
   "metadata": {},
   "outputs": [],
   "source": [
    "%matplotlib inline "
   ]
  },
  {
   "cell_type": "code",
   "execution_count": 14,
   "id": "3e6f2c17",
   "metadata": {},
   "outputs": [],
   "source": [
    "import matplotlib.pyplot as plt"
   ]
  },
  {
   "cell_type": "code",
   "execution_count": 15,
   "id": "8604bbd4",
   "metadata": {},
   "outputs": [],
   "source": [
    "import seaborn as sns"
   ]
  },
  {
   "cell_type": "code",
   "execution_count": 16,
   "id": "89afd88c",
   "metadata": {},
   "outputs": [],
   "source": [
    "import numpy as np"
   ]
  },
  {
   "cell_type": "code",
   "execution_count": 17,
   "id": "b223e48d",
   "metadata": {},
   "outputs": [
    {
     "data": {
      "image/png": "[encoded data removed]",
      "text/plain": [
       "<Figure size 1152x648 with 24 Axes>"
      ]
     },
     "metadata": {},
     "output_type": "display_data"
    }
   ],
   "source": [
    "index= np.random.choice(np.arange(len(X_train)), 24, replace=False)\n",
    "figure, axes=plt.subplots(nrows=4,ncols=6,figsize=(16,9))\n",
    "for item in zip(axes.ravel(), X_train[index], Y_train[index]):\n",
    "    axes, image, target=item\n",
    "    axes.imshow(image,cmap=plt.cm.gray_r)\n",
    "    axes.set_xticks([]) #remove x-axis marks\n",
    "    axes.set_yticks([]) #remove y-axis marks\n",
    "    axes.set_title(target)\n",
    "plt.tight_layout()"
   ]
  },
  {
   "cell_type": "code",
   "execution_count": 18,
   "id": "681e9d4c",
   "metadata": {},
   "outputs": [],
   "source": [
    "# Data preperation"
   ]
  },
  {
   "cell_type": "code",
   "execution_count": 19,
   "id": "bc768b17",
   "metadata": {},
   "outputs": [],
   "source": [
    "#sckitlearn bundled datasets are prepocessed - shapes that the models \n",
    "# do require \n",
    "# keras - cononet - some preparation for this data to work here."
   ]
  },
  {
   "cell_type": "code",
   "execution_count": 20,
   "id": "ec04d27b",
   "metadata": {},
   "outputs": [],
   "source": [
    "# each pixel has one channel- grayscale 0-255\n",
    "# samples sizes (28,28,1)\n",
    "# Neural network learns from the shapes- more channels are created\n",
    "# As more channels are built - represent more complex feautures \n",
    "# edges, curves and lines\n",
    "# enable the network recognize digits based on the featurres and how they're combined"
   ]
  },
  {
   "cell_type": "code",
   "execution_count": 21,
   "id": "277b99a3",
   "metadata": {},
   "outputs": [],
   "source": [
    "# reshaping the image data"
   ]
  },
  {
   "cell_type": "code",
   "execution_count": 22,
   "id": "6ec0e038",
   "metadata": {},
   "outputs": [],
   "source": [
    "X_train= X_train.reshape((60000,28,28,1))"
   ]
  },
  {
   "cell_type": "code",
   "execution_count": 23,
   "id": "61441753",
   "metadata": {},
   "outputs": [
    {
     "data": {
      "text/plain": [
       "(60000, 28, 28, 1)"
      ]
     },
     "execution_count": 23,
     "metadata": {},
     "output_type": "execute_result"
    }
   ],
   "source": [
    "X_train.shape"
   ]
  },
  {
   "cell_type": "code",
   "execution_count": 24,
   "id": "ed0fe1d8",
   "metadata": {},
   "outputs": [],
   "source": [
    "X_test=X_test.reshape((10000,28,28,1))"
   ]
  },
  {
   "cell_type": "code",
   "execution_count": 25,
   "id": "0af2b735",
   "metadata": {},
   "outputs": [
    {
     "data": {
      "text/plain": [
       "(10000, 28, 28, 1)"
      ]
     },
     "execution_count": 25,
     "metadata": {},
     "output_type": "execute_result"
    }
   ],
   "source": [
    "X_test.shape"
   ]
  },
  {
   "cell_type": "code",
   "execution_count": 26,
   "id": "f5883d37",
   "metadata": {},
   "outputs": [],
   "source": [
    "X_train=X_train.astype('float32')/255"
   ]
  },
  {
   "cell_type": "code",
   "execution_count": 27,
   "id": "5f629301",
   "metadata": {},
   "outputs": [],
   "source": [
    "X_test=X_test.astype('float32')/255"
   ]
  },
  {
   "cell_type": "code",
   "execution_count": 28,
   "id": "319bc00a",
   "metadata": {},
   "outputs": [],
   "source": [
    "# One-Hot encoding- "
   ]
  },
  {
   "cell_type": "code",
   "execution_count": 29,
   "id": "ed54591c",
   "metadata": {},
   "outputs": [
    {
     "data": {
      "text/plain": [
       "1"
      ]
     },
     "execution_count": 29,
     "metadata": {},
     "output_type": "execute_result"
    }
   ],
   "source": [
    "Y_train[23]"
   ]
  },
  {
   "cell_type": "code",
   "execution_count": 30,
   "id": "4dfa1d54",
   "metadata": {},
   "outputs": [],
   "source": [
    "# tensorflow.keras.utils - to_categorical - one hot encoding"
   ]
  },
  {
   "cell_type": "code",
   "execution_count": 31,
   "id": "38ac84c1",
   "metadata": {},
   "outputs": [],
   "source": [
    "from tensorflow.keras.utils import to_categorical "
   ]
  },
  {
   "cell_type": "code",
   "execution_count": 32,
   "id": "2141ac1b",
   "metadata": {},
   "outputs": [],
   "source": [
    "Y_train= to_categorical(Y_train)"
   ]
  },
  {
   "cell_type": "code",
   "execution_count": 33,
   "id": "ea5e2044",
   "metadata": {},
   "outputs": [
    {
     "data": {
      "text/plain": [
       "array([0., 0., 0., 0., 0., 1., 0., 0., 0., 0.], dtype=float32)"
      ]
     },
     "execution_count": 33,
     "metadata": {},
     "output_type": "execute_result"
    }
   ],
   "source": [
    "Y_train[0]"
   ]
  },
  {
   "cell_type": "code",
   "execution_count": 34,
   "id": "a778029a",
   "metadata": {},
   "outputs": [],
   "source": [
    "Y_test=to_categorical(Y_test)"
   ]
  },
  {
   "cell_type": "code",
   "execution_count": 35,
   "id": "57d84de1",
   "metadata": {},
   "outputs": [
    {
     "data": {
      "text/plain": [
       "(10000, 10)"
      ]
     },
     "execution_count": 35,
     "metadata": {},
     "output_type": "execute_result"
    }
   ],
   "source": [
    "Y_test.shape"
   ]
  },
  {
   "cell_type": "markdown",
   "id": "5931c310",
   "metadata": {},
   "source": [
    "# Creating the Neural Network"
   ]
  },
  {
   "cell_type": "code",
   "execution_count": 36,
   "id": "cb956c76",
   "metadata": {},
   "outputs": [],
   "source": [
    "# Sequential model - stack layers to execute sequentially\n",
    "# output of one layer - input to the next\n",
    "# Feedforwad network\n"
   ]
  },
  {
   "cell_type": "code",
   "execution_count": 37,
   "id": "20488c8d",
   "metadata": {},
   "outputs": [],
   "source": [
    "from tensorflow.keras.models import Sequential"
   ]
  },
  {
   "cell_type": "code",
   "execution_count": 38,
   "id": "0d1c507e",
   "metadata": {},
   "outputs": [],
   "source": [
    "cnn=Sequential()"
   ]
  },
  {
   "cell_type": "code",
   "execution_count": 39,
   "id": "e7b714ff",
   "metadata": {},
   "outputs": [],
   "source": [
    "# adding the layers to the network"
   ]
  },
  {
   "cell_type": "code",
   "execution_count": 40,
   "id": "5ac89a91",
   "metadata": {},
   "outputs": [],
   "source": [
    "# A typical convent - input layer - (training samples), hidden layers\n",
    "# that learn from training samples \n",
    "# output - produces the preditions\n",
    "# import layer classes for basic convent "
   ]
  },
  {
   "cell_type": "code",
   "execution_count": 41,
   "id": "b5f07467",
   "metadata": {},
   "outputs": [],
   "source": [
    "from tensorflow.keras.layers import Conv2D, Dense, Flatten, MaxPool2D"
   ]
  },
  {
   "cell_type": "code",
   "execution_count": 42,
   "id": "e4c97c56",
   "metadata": {},
   "outputs": [],
   "source": [
    "# Start by adding Convolution layer- use the relationship between pixels \n",
    "# in close proximity - so that it can learn useful features- patters \n",
    "# the Features - input for subsequent layers"
   ]
  },
  {
   "cell_type": "code",
   "execution_count": 43,
   "id": "b9fed017",
   "metadata": {},
   "outputs": [],
   "source": [
    "# examine convolusion on a 6 by 6 image\n",
    "# 3 by 3 represents the kernel\n",
    "# Convolution performs calculations that learn from kernel's 9 feautures\n",
    "# and ouputs 1 new feature\n",
    "# Convolution diagram - 3 by 3 represents its initial position"
   ]
  },
  {
   "cell_type": "code",
   "execution_count": 44,
   "id": "0e068fe4",
   "metadata": {},
   "outputs": [],
   "source": [
    "# complete passs - left- to right top to botom - filter\n",
    "# 3 by 3 kernel"
   ]
  },
  {
   "cell_type": "code",
   "execution_count": 45,
   "id": "fd44a46d",
   "metadata": {},
   "outputs": [],
   "source": [
    "cnn.add(Conv2D(filters=64, kernel_size=(3,3), activation='relu', input_shape=(28,28,1)))"
   ]
  },
  {
   "cell_type": "markdown",
   "id": "1017fc89",
   "metadata": {},
   "source": [
    "# Overfitting occurs\n",
    "- when model is toocomplex compared to what the model is modeling\n",
    "- the model may memorize the data set's features\n",
    "# adding a pooling layer \n",
    "- it reduces overfitting and computation time - reduce dimensionality of convert\n",
    "- compresse(down-samples)- discarding features (generalize very well )\n",
    "- Max pooling is usually used, 2*2 square features - max value"
   ]
  },
  {
   "cell_type": "code",
   "execution_count": 46,
   "id": "ea0239c6",
   "metadata": {},
   "outputs": [],
   "source": [
    "cnn.add(MaxPool2D(pool_size=(2,2)))"
   ]
  },
  {
   "cell_type": "code",
   "execution_count": 47,
   "id": "050a8767",
   "metadata": {},
   "outputs": [],
   "source": [
    "cnn.add(Conv2D(filters=128, kernel_size=(3,3), activation='relu'))"
   ]
  },
  {
   "cell_type": "code",
   "execution_count": 48,
   "id": "9b869460",
   "metadata": {},
   "outputs": [],
   "source": [
    "cnn.add(MaxPool2D(pool_size=(2,2)))"
   ]
  },
  {
   "cell_type": "markdown",
   "id": "9b266bd2",
   "metadata": {},
   "source": [
    "# Flattening the results \n",
    "- Models final output 1d array - 10 probabilities\n",
    "- flatten to one D\n",
    "- Output 1 by 3200 (55128)"
   ]
  },
  {
   "cell_type": "code",
   "execution_count": 49,
   "id": "d4abe89e",
   "metadata": {},
   "outputs": [],
   "source": [
    "cnn.add(Flatten())"
   ]
  },
  {
   "cell_type": "markdown",
   "id": "38d04321",
   "metadata": {},
   "source": [
    "# adding a dense layer "
   ]
  },
  {
   "cell_type": "code",
   "execution_count": 50,
   "id": "2320530c",
   "metadata": {},
   "outputs": [],
   "source": [
    "cnn.add(Dense(units=128, activation='relu'))"
   ]
  },
  {
   "cell_type": "code",
   "execution_count": 51,
   "id": "90d5884a",
   "metadata": {},
   "outputs": [],
   "source": [
    "# Softmax - converts values to probabilities"
   ]
  },
  {
   "cell_type": "code",
   "execution_count": 52,
   "id": "27a596c6",
   "metadata": {},
   "outputs": [],
   "source": [
    "cnn.add(Dense(units=10, activation='softmax'))"
   ]
  },
  {
   "cell_type": "code",
   "execution_count": 53,
   "id": "ff54fcad",
   "metadata": {},
   "outputs": [],
   "source": [
    "# summary of the model. shapes, number of parameters, "
   ]
  },
  {
   "cell_type": "code",
   "execution_count": 54,
   "id": "6a84d7a0",
   "metadata": {},
   "outputs": [
    {
     "name": "stdout",
     "output_type": "stream",
     "text": [
      "Model: \"sequential\"\n",
      "_________________________________________________________________\n",
      " Layer (type)                Output Shape              Param #   \n",
      "=================================================================\n",
      " conv2d (Conv2D)             (None, 26, 26, 64)        640       \n",
      "                                                                 \n",
      " max_pooling2d (MaxPooling2D  (None, 13, 13, 64)       0         \n",
      " )                                                               \n",
      "                                                                 \n",
      " conv2d_1 (Conv2D)           (None, 11, 11, 128)       73856     \n",
      "                                                                 \n",
      " max_pooling2d_1 (MaxPooling  (None, 5, 5, 128)        0         \n",
      " 2D)                                                             \n",
      "                                                                 \n",
      " flatten (Flatten)           (None, 3200)              0         \n",
      "                                                                 \n",
      " dense (Dense)               (None, 128)               409728    \n",
      "                                                                 \n",
      " dense_1 (Dense)             (None, 10)                1290      \n",
      "                                                                 \n",
      "=================================================================\n",
      "Total params: 485,514\n",
      "Trainable params: 485,514\n",
      "Non-trainable params: 0\n",
      "_________________________________________________________________\n"
     ]
    }
   ],
   "source": [
    "cnn.summary()"
   ]
  },
  {
   "cell_type": "code",
   "execution_count": 55,
   "id": "1c339505",
   "metadata": {},
   "outputs": [],
   "source": [
    "# Visualising the Model Structure"
   ]
  },
  {
   "cell_type": "code",
   "execution_count": 56,
   "id": "8f289a32",
   "metadata": {},
   "outputs": [],
   "source": [
    "# plot_model function from tensorflow.eras.utils"
   ]
  },
  {
   "cell_type": "code",
   "execution_count": 57,
   "id": "239f217c",
   "metadata": {},
   "outputs": [],
   "source": [
    "from tensorflow.keras.utils import plot_model"
   ]
  },
  {
   "cell_type": "code",
   "execution_count": 58,
   "id": "76a3abe4",
   "metadata": {},
   "outputs": [],
   "source": [
    "from IPython.display import Image"
   ]
  },
  {
   "cell_type": "code",
   "execution_count": 59,
   "id": "95931c8e",
   "metadata": {},
   "outputs": [
    {
     "data": {
      "image/png": "[encoded data removed]",
      "text/plain": [
       "<IPython.core.display.Image object>"
      ]
     },
     "execution_count": 59,
     "metadata": {},
     "output_type": "execute_result"
    }
   ],
   "source": [
    "plot_model(cnn, to_file ='convnet.png', show_shapes=True, show_layer_names=True)\n",
    "Image(filename='convnet.png')"
   ]
  },
  {
   "cell_type": "code",
   "execution_count": 60,
   "id": "24cc7188",
   "metadata": {},
   "outputs": [],
   "source": [
    "# Compiling the model"
   ]
  },
  {
   "cell_type": "code",
   "execution_count": 61,
   "id": "986d47f1",
   "metadata": {},
   "outputs": [],
   "source": [
    "cnn.compile(optimizer='adam', loss='categorical_crossentropy',metrics=['accuracy'])"
   ]
  },
  {
   "cell_type": "code",
   "execution_count": 62,
   "id": "ab16e1ac",
   "metadata": {},
   "outputs": [
    {
     "data": {
      "text/plain": [
       "<keras.engine.sequential.Sequential at 0x1b65c9ad610>"
      ]
     },
     "execution_count": 62,
     "metadata": {},
     "output_type": "execute_result"
    }
   ],
   "source": [
    "cnn"
   ]
  },
  {
   "cell_type": "code",
   "execution_count": 63,
   "id": "fd69bc1b",
   "metadata": {},
   "outputs": [],
   "source": [
    "# training and evaluating the model"
   ]
  },
  {
   "cell_type": "code",
   "execution_count": 64,
   "id": "b6e9b076",
   "metadata": {},
   "outputs": [],
   "source": [
    "# fit method, epochs -hyperparameter- tuned, batch_size- the number of \n",
    "#samples to process"
   ]
  },
  {
   "cell_type": "code",
   "execution_count": 65,
   "id": "ce999258",
   "metadata": {},
   "outputs": [],
   "source": [
    "from tensorflow.keras.callbacks import TensorBoard\n",
    "import time  "
   ]
  },
  {
   "cell_type": "code",
   "execution_count": 66,
   "id": "e809c5ef",
   "metadata": {},
   "outputs": [],
   "source": [
    "tensorboard_callback= TensorBoard(log_dir=f'./logsmnist{time.time()}', histogram_freq=1, write_graph=True)"
   ]
  },
  {
   "cell_type": "code",
   "execution_count": 67,
   "id": "7d04bf16",
   "metadata": {},
   "outputs": [
    {
     "name": "stdout",
     "output_type": "stream",
     "text": [
      "Epoch 1/5\n",
      "844/844 [==============================] - 66s 77ms/step - loss: 0.1454 - accuracy: 0.9555 - val_loss: 0.0495 - val_accuracy: 0.9852\n",
      "Epoch 2/5\n",
      "844/844 [==============================] - 65s 76ms/step - loss: 0.0434 - accuracy: 0.9865 - val_loss: 0.0434 - val_accuracy: 0.9877\n",
      "Epoch 3/5\n",
      "844/844 [==============================] - 64s 76ms/step - loss: 0.0270 - accuracy: 0.9914 - val_loss: 0.0366 - val_accuracy: 0.9905\n",
      "Epoch 4/5\n",
      "844/844 [==============================] - 65s 76ms/step - loss: 0.0208 - accuracy: 0.9933 - val_loss: 0.0332 - val_accuracy: 0.9905\n",
      "Epoch 5/5\n",
      "844/844 [==============================] - 65s 77ms/step - loss: 0.0149 - accuracy: 0.9949 - val_loss: 0.0343 - val_accuracy: 0.9917\n"
     ]
    },
    {
     "data": {
      "text/plain": [
       "<keras.callbacks.History at 0x1b65b3b7670>"
      ]
     },
     "execution_count": 67,
     "metadata": {},
     "output_type": "execute_result"
    }
   ],
   "source": [
    "cnn.fit(X_train,Y_train, epochs=5, batch_size=64, validation_split= 0.1)"
   ]
  },
  {
   "cell_type": "code",
   "execution_count": 68,
   "id": "993d4bbc",
   "metadata": {},
   "outputs": [],
   "source": [
    "# Evaluation the model on unseen data with Models evaluate method"
   ]
  },
  {
   "cell_type": "code",
   "execution_count": 69,
   "id": "f883cedd",
   "metadata": {},
   "outputs": [
    {
     "name": "stdout",
     "output_type": "stream",
     "text": [
      "313/313 [==============================] - 5s 15ms/step - loss: 0.0255 - accuracy: 0.9904\n"
     ]
    }
   ],
   "source": [
    "loss, accuracy= cnn.evaluate(X_test,Y_test)"
   ]
  },
  {
   "cell_type": "code",
   "execution_count": 70,
   "id": "18b3b33c",
   "metadata": {},
   "outputs": [
    {
     "data": {
      "text/plain": [
       "0.025480471551418304"
      ]
     },
     "execution_count": 70,
     "metadata": {},
     "output_type": "execute_result"
    }
   ],
   "source": [
    "loss"
   ]
  },
  {
   "cell_type": "code",
   "execution_count": 71,
   "id": "e45eb072",
   "metadata": {},
   "outputs": [
    {
     "data": {
      "text/plain": [
       "0.9904000163078308"
      ]
     },
     "execution_count": 71,
     "metadata": {},
     "output_type": "execute_result"
    }
   ],
   "source": [
    "accuracy"
   ]
  },
  {
   "cell_type": "code",
   "execution_count": 72,
   "id": "c74eb7f6",
   "metadata": {},
   "outputs": [],
   "source": [
    "# without tuning the convnet we have achieved 99+ accuracy on unseen data"
   ]
  },
  {
   "cell_type": "code",
   "execution_count": 73,
   "id": "aea14044",
   "metadata": {},
   "outputs": [],
   "source": [
    "# Making predictions with the Model's predict method"
   ]
  },
  {
   "cell_type": "code",
   "execution_count": 74,
   "id": "493b267b",
   "metadata": {},
   "outputs": [],
   "source": [
    "predictions= cnn.predict(X_test)"
   ]
  },
  {
   "cell_type": "code",
   "execution_count": 75,
   "id": "69ba4e62",
   "metadata": {},
   "outputs": [
    {
     "data": {
      "text/plain": [
       "array([0., 0., 0., 0., 0., 0., 0., 1., 0., 0.], dtype=float32)"
      ]
     },
     "execution_count": 75,
     "metadata": {},
     "output_type": "execute_result"
    }
   ],
   "source": [
    "Y_test[0]"
   ]
  },
  {
   "cell_type": "code",
   "execution_count": 76,
   "id": "5bd41f84",
   "metadata": {},
   "outputs": [
    {
     "data": {
      "text/plain": [
       "array([1.5460660e-07, 2.7473664e-07, 9.9999952e-01, 9.0864899e-11,\n",
       "       2.3677848e-12, 6.2454577e-13, 1.2795267e-07, 2.7221463e-11,\n",
       "       1.8964386e-08, 3.8815189e-13], dtype=float32)"
      ]
     },
     "execution_count": 76,
     "metadata": {},
     "output_type": "execute_result"
    }
   ],
   "source": [
    "predictions[1]"
   ]
  },
  {
   "cell_type": "code",
   "execution_count": 77,
   "id": "70149816",
   "metadata": {},
   "outputs": [
    {
     "name": "stdout",
     "output_type": "stream",
     "text": [
      "0: 0.0000154607%\n",
      "1: 0.0000274737%\n",
      "2: 99.9999523163%\n",
      "3: 0.0000000091%\n",
      "4: 0.0000000002%\n",
      "5: 0.0000000001%\n",
      "6: 0.0000127953%\n",
      "7: 0.0000000027%\n",
      "8: 0.0000018964%\n",
      "9: 0.0000000000%\n"
     ]
    }
   ],
   "source": [
    "for index, probability in enumerate(predictions[1]):\n",
    "    print(f'{index}: {probability:.10%}')"
   ]
  },
  {
   "cell_type": "code",
   "execution_count": 78,
   "id": "e6db458e",
   "metadata": {},
   "outputs": [],
   "source": [
    "# locating incorrect predictions"
   ]
  },
  {
   "cell_type": "code",
   "execution_count": 79,
   "id": "ad2cda98",
   "metadata": {},
   "outputs": [],
   "source": [
    "# reshape the samples (28,28,1) - keras - (28,28)"
   ]
  },
  {
   "cell_type": "code",
   "execution_count": 80,
   "id": "94c566d6",
   "metadata": {},
   "outputs": [],
   "source": [
    "image= X_test.reshape((10000,28,28))"
   ]
  },
  {
   "cell_type": "code",
   "execution_count": 81,
   "id": "0cbb1689",
   "metadata": {},
   "outputs": [],
   "source": [
    "incorrect_prediction=[]"
   ]
  },
  {
   "cell_type": "code",
   "execution_count": 82,
   "id": "9f871b87",
   "metadata": {},
   "outputs": [],
   "source": [
    "for i,(p,e) in enumerate(zip(predictions, Y_test)):\n",
    "       predicted, expected = np.argmax(p), np.argmax(e)\n",
    "       \n",
    "       if predicted != expected:\n",
    "           incorrect_prediction.append((i,image[i],predicted,expected))"
   ]
  },
  {
   "cell_type": "code",
   "execution_count": 83,
   "id": "6f6fe9ba",
   "metadata": {},
   "outputs": [
    {
     "data": {
      "text/plain": [
       "96"
      ]
     },
     "execution_count": 83,
     "metadata": {},
     "output_type": "execute_result"
    }
   ],
   "source": [
    "len(incorrect_prediction)"
   ]
  },
  {
   "cell_type": "code",
   "execution_count": 84,
   "id": "3efa63eb",
   "metadata": {},
   "outputs": [],
   "source": [
    "# Visualizing the incorrect predictions"
   ]
  },
  {
   "cell_type": "code",
   "execution_count": 85,
   "id": "4be66037",
   "metadata": {},
   "outputs": [
    {
     "data": {
      "image/png": "[encoded data removed]",
      "text/plain": [
       "<Figure size 1152x864 with 24 Axes>"
      ]
     },
     "metadata": {},
     "output_type": "display_data"
    }
   ],
   "source": [
    "figuer, axes=plt.subplots(nrows=4,ncols=6,figsize=(16,12))\n",
    "for axes, item in zip(axes.ravel(), incorrect_prediction):\n",
    "    index, image, predicted, expected = item\n",
    "    axes.imshow(image, cmap=plt.cm.gray_r)\n",
    "    axes.set_xticks([])\n",
    "    axes.set_yticks([])\n",
    "    axes.set_title(f'index:{index} \\np: {predicted}; e: {expected}')\n",
    "plt.tight_layout()"
   ]
  },
  {
   "cell_type": "code",
   "execution_count": 86,
   "id": "e96795d2",
   "metadata": {},
   "outputs": [],
   "source": [
    "def display_probabilities(prediction):\n",
    "    for index,probability in enumerate(prediction):\n",
    "        print(f'{index}: {probability: .10%}')"
   ]
  },
  {
   "cell_type": "code",
   "execution_count": 87,
   "id": "e6186053",
   "metadata": {},
   "outputs": [
    {
     "name": "stdout",
     "output_type": "stream",
     "text": [
      "0:  123200.0000000000%\n"
     ]
    }
   ],
   "source": [
    "display_probabilities([1232])"
   ]
  },
  {
   "cell_type": "code",
   "execution_count": 88,
   "id": "58ac85d2",
   "metadata": {},
   "outputs": [],
   "source": [
    "cnn.save('mnist_cnn.h5')"
   ]
  },
  {
   "cell_type": "code",
   "execution_count": null,
   "id": "3e217ea3",
   "metadata": {},
   "outputs": [],
   "source": []
  }
 ],
 "metadata": {
  "kernelspec": {
   "display_name": "Python 3",
   "language": "python",
   "name": "python3"
  },
  "language_info": {
   "codemirror_mode": {
    "name": "ipython",
    "version": 3
   },
   "file_extension": ".py",
   "mimetype": "text/x-python",
   "name": "python",
   "nbconvert_exporter": "python",
   "pygments_lexer": "ipython3",
   "version": "3.8.8"
  }
 },
 "nbformat": 4,
 "nbformat_minor": 5
}
