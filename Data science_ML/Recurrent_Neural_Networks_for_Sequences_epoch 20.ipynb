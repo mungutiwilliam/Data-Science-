{
 "cells": [
  {
   "cell_type": "code",
   "execution_count": 57,
   "id": "966b5055",
   "metadata": {
    "colab": {
     "base_uri": "https://localhost:8080/"
    },
    "id": "966b5055",
    "outputId": "28114ce2-2734-4ada-ee32-3d729501c401"
   },
   "outputs": [
    {
     "name": "stdout",
     "output_type": "stream",
     "text": [
      "Epoch 1/20\n",
      "782/782 [==============================] - 569s 724ms/step - loss: 0.4670 - accuracy: 0.7732 - val_loss: 0.3598 - val_accuracy: 0.8465\n",
      "Epoch 2/20\n",
      "782/782 [==============================] - 564s 721ms/step - loss: 0.2641 - accuracy: 0.8970 - val_loss: 0.3294 - val_accuracy: 0.8620\n",
      "Epoch 3/20\n",
      "782/782 [==============================] - 523s 669ms/step - loss: 0.1938 - accuracy: 0.9274 - val_loss: 0.3312 - val_accuracy: 0.8646\n",
      "Epoch 4/20\n",
      "782/782 [==============================] - 564s 722ms/step - loss: 0.1403 - accuracy: 0.9494 - val_loss: 0.3559 - val_accuracy: 0.8674\n",
      "Epoch 5/20\n",
      "782/782 [==============================] - 563s 720ms/step - loss: 0.1044 - accuracy: 0.9636 - val_loss: 0.4223 - val_accuracy: 0.8615\n",
      "Epoch 6/20\n",
      "782/782 [==============================] - 526s 672ms/step - loss: 0.0882 - accuracy: 0.9701 - val_loss: 0.5206 - val_accuracy: 0.8000\n",
      "Epoch 7/20\n",
      "782/782 [==============================] - 569s 727ms/step - loss: 0.1104 - accuracy: 0.9609 - val_loss: 0.5016 - val_accuracy: 0.8605\n",
      "Epoch 8/20\n",
      "782/782 [==============================] - 564s 721ms/step - loss: 0.0539 - accuracy: 0.9827 - val_loss: 0.5564 - val_accuracy: 0.8554\n",
      "Epoch 9/20\n",
      "782/782 [==============================] - 562s 719ms/step - loss: 0.0443 - accuracy: 0.9856 - val_loss: 0.5855 - val_accuracy: 0.8512\n",
      "Epoch 10/20\n",
      "782/782 [==============================] - 521s 666ms/step - loss: 0.0292 - accuracy: 0.9915 - val_loss: 0.6334 - val_accuracy: 0.8585\n",
      "Epoch 11/20\n",
      "782/782 [==============================] - 564s 721ms/step - loss: 0.0242 - accuracy: 0.9930 - val_loss: 0.6260 - val_accuracy: 0.8497\n",
      "Epoch 12/20\n",
      "782/782 [==============================] - 524s 670ms/step - loss: 0.0333 - accuracy: 0.9892 - val_loss: 0.7067 - val_accuracy: 0.8503\n",
      "Epoch 13/20\n",
      "782/782 [==============================] - 566s 724ms/step - loss: 0.0362 - accuracy: 0.9884 - val_loss: 0.6869 - val_accuracy: 0.8589\n",
      "Epoch 14/20\n",
      "782/782 [==============================] - 569s 728ms/step - loss: 0.0156 - accuracy: 0.9950 - val_loss: 0.8548 - val_accuracy: 0.8540\n",
      "Epoch 15/20\n",
      "782/782 [==============================] - 571s 730ms/step - loss: 0.0218 - accuracy: 0.9932 - val_loss: 0.7567 - val_accuracy: 0.8565\n",
      "Epoch 16/20\n",
      "782/782 [==============================] - 569s 727ms/step - loss: 0.0176 - accuracy: 0.9942 - val_loss: 0.7988 - val_accuracy: 0.8533\n",
      "Epoch 17/20\n",
      "782/782 [==============================] - 569s 728ms/step - loss: 0.0159 - accuracy: 0.9951 - val_loss: 0.8524 - val_accuracy: 0.8634\n",
      "Epoch 18/20\n",
      "782/782 [==============================] - 529s 677ms/step - loss: 0.0103 - accuracy: 0.9969 - val_loss: 0.8176 - val_accuracy: 0.8471\n",
      "Epoch 19/20\n",
      "782/782 [==============================] - 527s 674ms/step - loss: 0.0123 - accuracy: 0.9967 - val_loss: 0.7642 - val_accuracy: 0.8432\n",
      "Epoch 20/20\n",
      "782/782 [==============================] - 562s 719ms/step - loss: 0.0163 - accuracy: 0.9949 - val_loss: 0.7787 - val_accuracy: 0.8525\n"
     ]
    },
    {
     "data": {
      "text/plain": [
       "<keras.callbacks.History at 0x7fbdf0315650>"
      ]
     },
     "execution_count": 57,
     "metadata": {},
     "output_type": "execute_result"
    }
   ],
   "source": [
    "rnn.fit(X_train,Y_train, epochs=20, batch_size=32, validation_data=(X_test,Y_test), callbacks=[tensorboard_callback])"
   ]
  },
  {
   "cell_type": "code",
   "execution_count": 58,
   "id": "9f8e901f",
   "metadata": {
    "colab": {
     "base_uri": "https://localhost:8080/"
    },
    "id": "9f8e901f",
    "outputId": "8ce831a2-9996-4571-9ae7-fce86f04ea9d"
   },
   "outputs": [
    {
     "name": "stdout",
     "output_type": "stream",
     "text": [
      "625/625 [==============================] - 47s 75ms/step - loss: 0.7787 - accuracy: 0.8525\n"
     ]
    }
   ],
   "source": [
    "# Training and evaluating the model \n",
    "results= rnn.evaluate(X_test,Y_test)"
   ]
  },
  {
   "cell_type": "code",
   "execution_count": null,
   "id": "80f4547f",
   "metadata": {
    "id": "80f4547f"
   },
   "outputs": [],
   "source": [
    "results"
   ]
  },
  {
   "cell_type": "code",
   "execution_count": 60,
   "id": "410b703e",
   "metadata": {
    "id": "410b703e"
   },
   "outputs": [],
   "source": [
    "predictions= rnn.predict(X_test)"
   ]
  },
  {
   "cell_type": "code",
   "execution_count": null,
   "id": "LkPw9MDHXe9s",
   "metadata": {
    "colab": {
     "background_save": true
    },
    "id": "LkPw9MDHXe9s",
    "outputId": "e0a9b7e6-99e8-492c-98be-b84195824f90"
   },
   "outputs": [
    {
     "data": {
      "text/plain": [
       "array([0.99999225], dtype=float32)"
      ]
     },
     "execution_count": null,
     "metadata": {},
     "output_type": "execute_result"
    }
   ],
   "source": [
    "predictions[1]"
   ]
  },
  {
   "cell_type": "code",
   "execution_count": 62,
   "id": "WRl0dIBWXj7S",
   "metadata": {
    "colab": {
     "base_uri": "https://localhost:8080/"
    },
    "id": "WRl0dIBWXj7S",
    "outputId": "d5d450f9-8e72-4c8a-cca5-da6c75f7fdc5"
   },
   "outputs": [
    {
     "name": "stdout",
     "output_type": "stream",
     "text": [
      "0: 6.0424774885%\n",
      "0: 6.0424774885%\n"
     ]
    }
   ],
   "source": [
    "for index, probability in enumerate(predictions[1]):\n",
    "    print(f'{index}: {probability:.10%}')"
   ]
  }
 ],
 "metadata": {
  "colab": {
   "name": "Recurrent Neural Networks for Sequences-Copy1.ipynb",
   "provenance": []
  },
  "kernelspec": {
   "display_name": "Python 3",
   "language": "python",
   "name": "python3"
  },
  "language_info": {
   "codemirror_mode": {
    "name": "ipython",
    "version": 3
   },
   "file_extension": ".py",
   "mimetype": "text/x-python",
   "name": "python",
   "nbconvert_exporter": "python",
   "pygments_lexer": "ipython3",
   "version": "3.8.8"
  }
 },
 "nbformat": 4,
 "nbformat_minor": 5
}
