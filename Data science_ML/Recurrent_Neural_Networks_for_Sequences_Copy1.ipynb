{
 "cells": [
  {
   "cell_type": "code",
   "execution_count": 65,
   "id": "966b5055",
   "metadata": {
    "colab": {
     "base_uri": "https://localhost:8080/"
    },
    "id": "966b5055",
    "outputId": "ca01f860-a9bc-43ca-8612-42d465e25241"
   },
   "outputs": [
    {
     "name": "stdout",
     "output_type": "stream",
     "text": [
      "Epoch 1/10\n",
      "782/782 [==============================] - 523s 668ms/step - loss: 0.0222 - accuracy: 0.9933 - val_loss: 0.7002 - val_accuracy: 0.8589\n",
      "Epoch 2/10\n",
      "782/782 [==============================] - 518s 663ms/step - loss: 0.0432 - accuracy: 0.9854 - val_loss: 0.7127 - val_accuracy: 0.8533\n",
      "Epoch 3/10\n",
      "782/782 [==============================] - 517s 661ms/step - loss: 0.0243 - accuracy: 0.9922 - val_loss: 0.7514 - val_accuracy: 0.8584\n",
      "Epoch 4/10\n",
      "782/782 [==============================] - 557s 713ms/step - loss: 0.0127 - accuracy: 0.9960 - val_loss: 0.7936 - val_accuracy: 0.8576\n",
      "Epoch 5/10\n",
      "782/782 [==============================] - 518s 663ms/step - loss: 0.0136 - accuracy: 0.9957 - val_loss: 0.7891 - val_accuracy: 0.8509\n",
      "Epoch 6/10\n",
      "782/782 [==============================] - 518s 662ms/step - loss: 0.0125 - accuracy: 0.9958 - val_loss: 0.8159 - val_accuracy: 0.8581\n",
      "Epoch 7/10\n",
      "782/782 [==============================] - 518s 662ms/step - loss: 0.0109 - accuracy: 0.9969 - val_loss: 0.8711 - val_accuracy: 0.8594\n",
      "Epoch 8/10\n",
      "782/782 [==============================] - 517s 661ms/step - loss: 0.0103 - accuracy: 0.9968 - val_loss: 0.8399 - val_accuracy: 0.8533\n",
      "Epoch 9/10\n",
      "782/782 [==============================] - 517s 662ms/step - loss: 0.0116 - accuracy: 0.9962 - val_loss: 0.8954 - val_accuracy: 0.8511\n",
      "Epoch 10/10\n",
      "782/782 [==============================] - 516s 660ms/step - loss: 0.0083 - accuracy: 0.9974 - val_loss: 0.9217 - val_accuracy: 0.8612\n"
     ]
    },
    {
     "data": {
      "text/plain": [
       "<keras.callbacks.History at 0x7f76ab38ef90>"
      ]
     },
     "execution_count": 65,
     "metadata": {},
     "output_type": "execute_result"
    }
   ],
   "source": [
    "rnn.fit(X_train,Y_train, epochs=10, batch_size=32, validation_data=(X_test,Y_test), callbacks=[tensorboard_callback])"
   ]
  },
  {
   "cell_type": "code",
   "execution_count": 71,
   "id": "9f8e901f",
   "metadata": {
    "colab": {
     "base_uri": "https://localhost:8080/"
    },
    "id": "9f8e901f",
    "outputId": "3be3ad37-0894-4f5d-bdc9-10c15e214df9"
   },
   "outputs": [
    {
     "name": "stdout",
     "output_type": "stream",
     "text": [
      "625/625 [==============================] - 45s 72ms/step - loss: 0.9217 - accuracy: 0.8612\n"
     ]
    }
   ],
   "source": [
    "# Training and evaluating the model \n",
    "results= rnn.evaluate(X_test,Y_test)"
   ]
  },
  {
   "cell_type": "code",
   "execution_count": 72,
   "id": "80f4547f",
   "metadata": {
    "colab": {
     "base_uri": "https://localhost:8080/"
    },
    "id": "80f4547f",
    "outputId": "d1e8d3d7-40b0-4eae-d0a1-2c33da93f72b"
   },
   "outputs": [
    {
     "data": {
      "text/plain": [
       "[0.9216623902320862, 0.8611500263214111]"
      ]
     },
     "execution_count": 72,
     "metadata": {},
     "output_type": "execute_result"
    }
   ],
   "source": [
    "results"
   ]
  },
  {
   "cell_type": "code",
   "execution_count": 73,
   "id": "410b703e",
   "metadata": {
    "id": "410b703e"
   },
   "outputs": [],
   "source": [
    "predictions= rnn.predict(X_test)"
   ]
  },
  {
   "cell_type": "code",
   "execution_count": 74,
   "id": "LkPw9MDHXe9s",
   "metadata": {
    "colab": {
     "base_uri": "https://localhost:8080/"
    },
    "id": "LkPw9MDHXe9s",
    "outputId": "090d4e91-7a4f-46a1-fbd3-d0d84af20308"
   },
   "outputs": [
    {
     "data": {
      "text/plain": [
       "array([0.99999225], dtype=float32)"
      ]
     },
     "execution_count": 74,
     "metadata": {},
     "output_type": "execute_result"
    }
   ],
   "source": [
    "predictions[1]"
   ]
  },
  {
   "cell_type": "code",
   "execution_count": 75,
   "id": "WRl0dIBWXj7S",
   "metadata": {
    "colab": {
     "base_uri": "https://localhost:8080/"
    },
    "id": "WRl0dIBWXj7S",
    "outputId": "9afeeb76-a9a5-4575-9d21-56edee5348a4"
   },
   "outputs": [
    {
     "name": "stdout",
     "output_type": "stream",
     "text": [
      "0: 99.9992251396%\n"
     ]
    }
   ],
   "source": [
    "for index, probability in enumerate(predictions[1]):\n",
    "    print(f'{index}: {probability:.10%}')"
   ]
  }
 ],
 "metadata": {
  "colab": {
   "name": "Recurrent Neural Networks for Sequences-Copy1.ipynb",
   "provenance": []
  },
  "kernelspec": {
   "display_name": "Python 3",
   "language": "python",
   "name": "python3"
  },
  "language_info": {
   "codemirror_mode": {
    "name": "ipython",
    "version": 3
   },
   "file_extension": ".py",
   "mimetype": "text/x-python",
   "name": "python",
   "nbconvert_exporter": "python",
   "pygments_lexer": "ipython3",
   "version": "3.8.8"
  }
 },
 "nbformat": 4,
 "nbformat_minor": 5
}
