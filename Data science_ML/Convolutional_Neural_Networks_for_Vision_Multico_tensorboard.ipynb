{
  "nbformat": 4,
  "nbformat_minor": 5,
  "metadata": {
    "colab": {
      "name": "Convolutional Neural Networks for Vision- Multico - tensorboard.ipynb",
      "provenance": [],
      "collapsed_sections": [
        "5931c310",
        "1017fc89"
      ]
    },
    "kernelspec": {
      "display_name": "Python 3",
      "language": "python",
      "name": "python3"
    },
    "language_info": {
      "codemirror_mode": {
        "name": "ipython",
        "version": 3
      },
      "file_extension": ".py",
      "mimetype": "text/x-python",
      "name": "python",
      "nbconvert_exporter": "python",
      "pygments_lexer": "ipython3",
      "version": "3.8.8"
    }
  },
  "cells": [
    {
      "cell_type": "markdown",
      "metadata": {
        "id": "b250d7bd"
      },
      "source": [
        "# Introduction"
      ],
      "id": "b250d7bd"
    },
    {
      "cell_type": "markdown",
      "metadata": {
        "id": "7086eab1"
      },
      "source": [
        "create a CNN also called convent or Convolutional Neural Networks.\n",
        "- Computer Vision Applications\n",
        "- Recognise hand written digits and characters\n",
        "- Recognise objects in images and videos \n",
        "- Non-vision applications - Natural Language processing , Recommender systems \n",
        "\n",
        "- 60,000 labeled digital images - training and testing 10,000\n",
        "- 28 by 28 pixels - 784 features - Numpy arrays- grayscale pixel intensity (0-255)\n",
        "- Convent - probabilistic clasification\n",
        "- 0,1,2,3,4,5,6,7,8,9\n",
        "  0.92 0.004, - highest probability is the predicted value "
      ],
      "id": "7086eab1"
    },
    {
      "cell_type": "code",
      "metadata": {
        "colab": {
          "base_uri": "https://localhost:8080/"
        },
        "id": "619578cb",
        "outputId": "cb27e3bc-dbc3-4eb4-ab0a-0d44d688b29a"
      },
      "source": [
        "60000+10000"
      ],
      "id": "619578cb",
      "execution_count": null,
      "outputs": [
        {
          "data": {
            "text/plain": [
              "70000"
            ]
          },
          "execution_count": 1,
          "metadata": {},
          "output_type": "execute_result"
        }
      ]
    },
    {
      "cell_type": "code",
      "metadata": {
        "colab": {
          "base_uri": "https://localhost:8080/"
        },
        "id": "8a7506e4",
        "scrolled": true,
        "outputId": "fb945279-ea7f-420a-837b-c3ed541f11b7"
      },
      "source": [
        "60000/70000 * 100"
      ],
      "id": "8a7506e4",
      "execution_count": null,
      "outputs": [
        {
          "data": {
            "text/plain": [
              "85.71428571428571"
            ]
          },
          "execution_count": 2,
          "metadata": {},
          "output_type": "execute_result"
        }
      ]
    },
    {
      "cell_type": "code",
      "metadata": {
        "colab": {
          "base_uri": "https://localhost:8080/"
        },
        "id": "becc145f",
        "outputId": "c62457ff-7767-4a6c-d792-aafa23a75978"
      },
      "source": [
        "28 * 28"
      ],
      "id": "becc145f",
      "execution_count": null,
      "outputs": [
        {
          "data": {
            "text/plain": [
              "784"
            ]
          },
          "execution_count": 3,
          "metadata": {},
          "output_type": "execute_result"
        }
      ]
    },
    {
      "cell_type": "markdown",
      "metadata": {
        "id": "929904b7"
      },
      "source": [
        " #Reproducability in keras and deep learning \n",
        "- Computations are done in parallel (floating points calculations)\n",
        "- can produce different results in each "
      ],
      "id": "929904b7"
    },
    {
      "cell_type": "code",
      "metadata": {
        "id": "c6tA016obY76"
      },
      "source": [
        "%load_ext tensorboard\n"
      ],
      "id": "c6tA016obY76",
      "execution_count": null,
      "outputs": []
    },
    {
      "cell_type": "code",
      "metadata": {
        "id": "LZoGuEFxYPWJ"
      },
      "source": [
        "import tensorflow as tf"
      ],
      "id": "LZoGuEFxYPWJ",
      "execution_count": null,
      "outputs": []
    },
    {
      "cell_type": "code",
      "metadata": {
        "id": "6-byN3tsVNv-"
      },
      "source": [
        "import datetime, os\n"
      ],
      "id": "6-byN3tsVNv-",
      "execution_count": null,
      "outputs": []
    },
    {
      "cell_type": "code",
      "metadata": {
        "id": "893626de"
      },
      "source": [
        "from tensorflow.keras.datasets import mnist"
      ],
      "id": "893626de",
      "execution_count": null,
      "outputs": []
    },
    {
      "cell_type": "code",
      "metadata": {
        "id": "0c5b1924"
      },
      "source": [
        "(X_train, Y_train), (X_test, Y_test)= mnist.load_data()"
      ],
      "id": "0c5b1924",
      "execution_count": null,
      "outputs": []
    },
    {
      "cell_type": "code",
      "metadata": {
        "colab": {
          "base_uri": "https://localhost:8080/"
        },
        "id": "441ef38e",
        "outputId": "ba2c66e6-040f-4e67-9359-bcc0871a5713"
      },
      "source": [
        "Y_train.shape"
      ],
      "id": "441ef38e",
      "execution_count": null,
      "outputs": [
        {
          "data": {
            "text/plain": [
              "(60000,)"
            ]
          },
          "execution_count": 9,
          "metadata": {},
          "output_type": "execute_result"
        }
      ]
    },
    {
      "cell_type": "code",
      "metadata": {
        "colab": {
          "base_uri": "https://localhost:8080/"
        },
        "id": "c6350cf7",
        "outputId": "9ddf3110-f001-41d8-865a-a6e2e74feb7f"
      },
      "source": [
        "X_train.shape"
      ],
      "id": "c6350cf7",
      "execution_count": null,
      "outputs": [
        {
          "data": {
            "text/plain": [
              "(60000, 28, 28)"
            ]
          },
          "execution_count": 10,
          "metadata": {},
          "output_type": "execute_result"
        }
      ]
    },
    {
      "cell_type": "code",
      "metadata": {
        "colab": {
          "base_uri": "https://localhost:8080/"
        },
        "id": "cd87100d",
        "outputId": "12672598-35b9-4e69-b734-f1a8947e5bd8"
      },
      "source": [
        "X_train"
      ],
      "id": "cd87100d",
      "execution_count": null,
      "outputs": [
        {
          "data": {
            "text/plain": [
              "array([[[0, 0, 0, ..., 0, 0, 0],\n",
              "        [0, 0, 0, ..., 0, 0, 0],\n",
              "        [0, 0, 0, ..., 0, 0, 0],\n",
              "        ...,\n",
              "        [0, 0, 0, ..., 0, 0, 0],\n",
              "        [0, 0, 0, ..., 0, 0, 0],\n",
              "        [0, 0, 0, ..., 0, 0, 0]],\n",
              "\n",
              "       [[0, 0, 0, ..., 0, 0, 0],\n",
              "        [0, 0, 0, ..., 0, 0, 0],\n",
              "        [0, 0, 0, ..., 0, 0, 0],\n",
              "        ...,\n",
              "        [0, 0, 0, ..., 0, 0, 0],\n",
              "        [0, 0, 0, ..., 0, 0, 0],\n",
              "        [0, 0, 0, ..., 0, 0, 0]],\n",
              "\n",
              "       [[0, 0, 0, ..., 0, 0, 0],\n",
              "        [0, 0, 0, ..., 0, 0, 0],\n",
              "        [0, 0, 0, ..., 0, 0, 0],\n",
              "        ...,\n",
              "        [0, 0, 0, ..., 0, 0, 0],\n",
              "        [0, 0, 0, ..., 0, 0, 0],\n",
              "        [0, 0, 0, ..., 0, 0, 0]],\n",
              "\n",
              "       ...,\n",
              "\n",
              "       [[0, 0, 0, ..., 0, 0, 0],\n",
              "        [0, 0, 0, ..., 0, 0, 0],\n",
              "        [0, 0, 0, ..., 0, 0, 0],\n",
              "        ...,\n",
              "        [0, 0, 0, ..., 0, 0, 0],\n",
              "        [0, 0, 0, ..., 0, 0, 0],\n",
              "        [0, 0, 0, ..., 0, 0, 0]],\n",
              "\n",
              "       [[0, 0, 0, ..., 0, 0, 0],\n",
              "        [0, 0, 0, ..., 0, 0, 0],\n",
              "        [0, 0, 0, ..., 0, 0, 0],\n",
              "        ...,\n",
              "        [0, 0, 0, ..., 0, 0, 0],\n",
              "        [0, 0, 0, ..., 0, 0, 0],\n",
              "        [0, 0, 0, ..., 0, 0, 0]],\n",
              "\n",
              "       [[0, 0, 0, ..., 0, 0, 0],\n",
              "        [0, 0, 0, ..., 0, 0, 0],\n",
              "        [0, 0, 0, ..., 0, 0, 0],\n",
              "        ...,\n",
              "        [0, 0, 0, ..., 0, 0, 0],\n",
              "        [0, 0, 0, ..., 0, 0, 0],\n",
              "        [0, 0, 0, ..., 0, 0, 0]]], dtype=uint8)"
            ]
          },
          "execution_count": 11,
          "metadata": {},
          "output_type": "execute_result"
        }
      ]
    },
    {
      "cell_type": "code",
      "metadata": {
        "colab": {
          "base_uri": "https://localhost:8080/"
        },
        "id": "05767d3a",
        "outputId": "de4bee72-23b1-4514-cb37-81eaafdd3c4e"
      },
      "source": [
        "Y_train[10]"
      ],
      "id": "05767d3a",
      "execution_count": null,
      "outputs": [
        {
          "data": {
            "text/plain": [
              "3"
            ]
          },
          "execution_count": 12,
          "metadata": {},
          "output_type": "execute_result"
        }
      ]
    },
    {
      "cell_type": "code",
      "metadata": {
        "colab": {
          "base_uri": "https://localhost:8080/"
        },
        "id": "b179b265",
        "outputId": "77823555-4a90-4f2e-8c84-f664946a191e"
      },
      "source": [
        "Y_train[1]"
      ],
      "id": "b179b265",
      "execution_count": null,
      "outputs": [
        {
          "data": {
            "text/plain": [
              "0"
            ]
          },
          "execution_count": 13,
          "metadata": {},
          "output_type": "execute_result"
        }
      ]
    },
    {
      "cell_type": "code",
      "metadata": {
        "colab": {
          "base_uri": "https://localhost:8080/"
        },
        "id": "12c4b401",
        "outputId": "1b63a5d2-3e3d-4034-8822-21ef44b4ae3a"
      },
      "source": [
        "Y_train[1000]"
      ],
      "id": "12c4b401",
      "execution_count": null,
      "outputs": [
        {
          "data": {
            "text/plain": [
              "0"
            ]
          },
          "execution_count": 14,
          "metadata": {},
          "output_type": "execute_result"
        }
      ]
    },
    {
      "cell_type": "code",
      "metadata": {
        "id": "4b4f5c6e"
      },
      "source": [
        "# Visualisation of the digits"
      ],
      "id": "4b4f5c6e",
      "execution_count": null,
      "outputs": []
    },
    {
      "cell_type": "code",
      "metadata": {
        "id": "0a4534d4"
      },
      "source": [
        "%matplotlib inline "
      ],
      "id": "0a4534d4",
      "execution_count": null,
      "outputs": []
    },
    {
      "cell_type": "code",
      "metadata": {
        "id": "3e6f2c17"
      },
      "source": [
        "import matplotlib.pyplot as plt"
      ],
      "id": "3e6f2c17",
      "execution_count": null,
      "outputs": []
    },
    {
      "cell_type": "code",
      "metadata": {
        "id": "8604bbd4"
      },
      "source": [
        "import seaborn as sns"
      ],
      "id": "8604bbd4",
      "execution_count": null,
      "outputs": []
    },
    {
      "cell_type": "code",
      "metadata": {
        "id": "89afd88c"
      },
      "source": [
        "import numpy as np"
      ],
      "id": "89afd88c",
      "execution_count": null,
      "outputs": []
    },
    {
      "cell_type": "code",
      "metadata": {
        "colab": {
          "base_uri": "https://localhost:8080/",
          "height": 398
        },
        "id": "b223e48d",
        "outputId": "0f430ec6-4b09-4660-9961-738bd3f3ddfe"
      },
      "source": [
        "index= np.random.choice(np.arange(len(X_train)), 24, replace=False)\n",
        "figure, axes=plt.subplots(nrows=4,ncols=6,figsize=(16,9))\n",
        "for item in zip(axes.ravel(), X_train[index], Y_train[index]):\n",
        "    axes, image, target=item\n",
        "    axes.imshow(image,cmap=plt.cm.gray_r)\n",
        "    axes.set_xticks([]) #remove x-axis marks\n",
        "    axes.set_yticks([]) #remove y-axis marks\n",
        "    axes.set_title(target)\n",
        "plt.tight_layout()"
      ],
      "id": "b223e48d",
      "execution_count": null,
      "outputs": [
        {
          "data": {
            "image/png": "[encoded data removed]",
            "text/plain": [
              "<Figure size 1152x648 with 24 Axes>"
            ]
          },
          "metadata": {},
          "output_type": "display_data"
        }
      ]
    },
    {
      "cell_type": "code",
      "metadata": {
        "id": "681e9d4c"
      },
      "source": [
        "# Data preperation"
      ],
      "id": "681e9d4c",
      "execution_count": null,
      "outputs": []
    },
    {
      "cell_type": "code",
      "metadata": {
        "id": "bc768b17"
      },
      "source": [
        "#sckitlearn bundled datasets are prepocessed - shapes that the models \n",
        "# do require \n",
        "# keras - cononet - some preparation for this data to work here."
      ],
      "id": "bc768b17",
      "execution_count": null,
      "outputs": []
    },
    {
      "cell_type": "code",
      "metadata": {
        "id": "ec04d27b"
      },
      "source": [
        "# each pixel has one channel- grayscale 0-255\n",
        "# samples sizes (28,28,1)\n",
        "# Neural network learns from the shapes- more channels are created\n",
        "# As more channels are built - represent more complex feautures \n",
        "# edges, curves and lines\n",
        "# enable the network recognize digits based on the featurres and how they're combined"
      ],
      "id": "ec04d27b",
      "execution_count": null,
      "outputs": []
    },
    {
      "cell_type": "code",
      "metadata": {
        "id": "277b99a3"
      },
      "source": [
        "# reshaping the image data"
      ],
      "id": "277b99a3",
      "execution_count": null,
      "outputs": []
    },
    {
      "cell_type": "code",
      "metadata": {
        "id": "6ec0e038"
      },
      "source": [
        "X_train= X_train.reshape((60000,28,28,1))"
      ],
      "id": "6ec0e038",
      "execution_count": null,
      "outputs": []
    },
    {
      "cell_type": "code",
      "metadata": {
        "colab": {
          "base_uri": "https://localhost:8080/"
        },
        "id": "61441753",
        "outputId": "6d9c495e-9061-4fd0-c2cf-71031fd66fa8"
      },
      "source": [
        "X_train.shape"
      ],
      "id": "61441753",
      "execution_count": null,
      "outputs": [
        {
          "data": {
            "text/plain": [
              "(60000, 28, 28, 1)"
            ]
          },
          "execution_count": 26,
          "metadata": {},
          "output_type": "execute_result"
        }
      ]
    },
    {
      "cell_type": "code",
      "metadata": {
        "id": "ed0fe1d8"
      },
      "source": [
        "X_test=X_test.reshape((10000,28,28,1))"
      ],
      "id": "ed0fe1d8",
      "execution_count": null,
      "outputs": []
    },
    {
      "cell_type": "code",
      "metadata": {
        "colab": {
          "base_uri": "https://localhost:8080/"
        },
        "id": "0af2b735",
        "outputId": "5784fb7d-5e15-4597-89d1-a88633a3e72e"
      },
      "source": [
        "X_test.shape"
      ],
      "id": "0af2b735",
      "execution_count": null,
      "outputs": [
        {
          "data": {
            "text/plain": [
              "(10000, 28, 28, 1)"
            ]
          },
          "execution_count": 28,
          "metadata": {},
          "output_type": "execute_result"
        }
      ]
    },
    {
      "cell_type": "code",
      "metadata": {
        "id": "f5883d37"
      },
      "source": [
        "X_train=X_train.astype('float32')/255"
      ],
      "id": "f5883d37",
      "execution_count": null,
      "outputs": []
    },
    {
      "cell_type": "code",
      "metadata": {
        "id": "5f629301"
      },
      "source": [
        "X_test=X_test.astype('float32')/255"
      ],
      "id": "5f629301",
      "execution_count": null,
      "outputs": []
    },
    {
      "cell_type": "code",
      "metadata": {
        "id": "319bc00a"
      },
      "source": [
        "# One-Hot encoding- "
      ],
      "id": "319bc00a",
      "execution_count": null,
      "outputs": []
    },
    {
      "cell_type": "code",
      "metadata": {
        "colab": {
          "base_uri": "https://localhost:8080/"
        },
        "id": "ed54591c",
        "outputId": "241bbb08-c921-43e5-abb3-565c1731cefe"
      },
      "source": [
        "Y_train[23]"
      ],
      "id": "ed54591c",
      "execution_count": null,
      "outputs": [
        {
          "data": {
            "text/plain": [
              "1"
            ]
          },
          "execution_count": 32,
          "metadata": {},
          "output_type": "execute_result"
        }
      ]
    },
    {
      "cell_type": "code",
      "metadata": {
        "id": "4dfa1d54"
      },
      "source": [
        "# tensorflow.keras.utils - to_categorical - one hot encoding"
      ],
      "id": "4dfa1d54",
      "execution_count": null,
      "outputs": []
    },
    {
      "cell_type": "code",
      "metadata": {
        "id": "38ac84c1"
      },
      "source": [
        "from tensorflow.keras.utils import to_categorical "
      ],
      "id": "38ac84c1",
      "execution_count": null,
      "outputs": []
    },
    {
      "cell_type": "code",
      "metadata": {
        "id": "2141ac1b"
      },
      "source": [
        "Y_train= to_categorical(Y_train)"
      ],
      "id": "2141ac1b",
      "execution_count": null,
      "outputs": []
    },
    {
      "cell_type": "code",
      "metadata": {
        "colab": {
          "base_uri": "https://localhost:8080/"
        },
        "id": "ea5e2044",
        "outputId": "d8a078a3-3711-44c0-e7cd-683c2040ed91"
      },
      "source": [
        "Y_train[0]"
      ],
      "id": "ea5e2044",
      "execution_count": null,
      "outputs": [
        {
          "data": {
            "text/plain": [
              "array([0., 0., 0., 0., 0., 1., 0., 0., 0., 0.], dtype=float32)"
            ]
          },
          "execution_count": 36,
          "metadata": {},
          "output_type": "execute_result"
        }
      ]
    },
    {
      "cell_type": "code",
      "metadata": {
        "id": "a778029a"
      },
      "source": [
        "Y_test=to_categorical(Y_test)"
      ],
      "id": "a778029a",
      "execution_count": null,
      "outputs": []
    },
    {
      "cell_type": "code",
      "metadata": {
        "colab": {
          "base_uri": "https://localhost:8080/"
        },
        "id": "57d84de1",
        "outputId": "ee551565-6a4b-416a-8b84-c1254326db4b"
      },
      "source": [
        "Y_test.shape"
      ],
      "id": "57d84de1",
      "execution_count": null,
      "outputs": [
        {
          "data": {
            "text/plain": [
              "(10000, 10)"
            ]
          },
          "execution_count": 38,
          "metadata": {},
          "output_type": "execute_result"
        }
      ]
    },
    {
      "cell_type": "markdown",
      "metadata": {
        "id": "5931c310"
      },
      "source": [
        "# Creating the Neural Network"
      ],
      "id": "5931c310"
    },
    {
      "cell_type": "code",
      "metadata": {
        "id": "cb956c76"
      },
      "source": [
        "# Sequential model - stack layers to execute sequentially\n",
        "# output of one layer - input to the next\n",
        "# Feedforwad network\n"
      ],
      "id": "cb956c76",
      "execution_count": null,
      "outputs": []
    },
    {
      "cell_type": "code",
      "metadata": {
        "id": "20488c8d"
      },
      "source": [
        "from tensorflow.keras.models import Sequential"
      ],
      "id": "20488c8d",
      "execution_count": null,
      "outputs": []
    },
    {
      "cell_type": "code",
      "metadata": {
        "id": "0d1c507e"
      },
      "source": [
        "cnn=Sequential()"
      ],
      "id": "0d1c507e",
      "execution_count": null,
      "outputs": []
    },
    {
      "cell_type": "code",
      "metadata": {
        "id": "e7b714ff"
      },
      "source": [
        "# adding the layers to the network"
      ],
      "id": "e7b714ff",
      "execution_count": null,
      "outputs": []
    },
    {
      "cell_type": "code",
      "metadata": {
        "id": "5ac89a91"
      },
      "source": [
        "# A typical convent - input layer - (training samples), hidden layers\n",
        "# that learn from training samples \n",
        "# output - produces the preditions\n",
        "# import layer classes for basic convent "
      ],
      "id": "5ac89a91",
      "execution_count": null,
      "outputs": []
    },
    {
      "cell_type": "code",
      "metadata": {
        "id": "b5f07467"
      },
      "source": [
        "from tensorflow.keras.layers import Conv2D, Dense, Flatten, MaxPool2D"
      ],
      "id": "b5f07467",
      "execution_count": null,
      "outputs": []
    },
    {
      "cell_type": "code",
      "metadata": {
        "id": "e4c97c56"
      },
      "source": [
        "# Start by adding Convolution layer- use the relationship between pixels \n",
        "# in close proximity - so that it can learn useful features- patters \n",
        "# the Features - input for subsequent layers"
      ],
      "id": "e4c97c56",
      "execution_count": null,
      "outputs": []
    },
    {
      "cell_type": "code",
      "metadata": {
        "id": "b9fed017"
      },
      "source": [
        "# examine convolusion on a 6 by 6 image\n",
        "# 3 by 3 represents the kernel\n",
        "# Convolution performs calculations that learn from kernel's 9 feautures\n",
        "# and ouputs 1 new feature\n",
        "# Convolution diagram - 3 by 3 represents its initial position"
      ],
      "id": "b9fed017",
      "execution_count": null,
      "outputs": []
    },
    {
      "cell_type": "code",
      "metadata": {
        "id": "0e068fe4"
      },
      "source": [
        "# complete passs - left- to right top to botom - filter\n",
        "# 3 by 3 kernel"
      ],
      "id": "0e068fe4",
      "execution_count": null,
      "outputs": []
    },
    {
      "cell_type": "code",
      "metadata": {
        "id": "fd44a46d"
      },
      "source": [
        "cnn.add(Conv2D(filters=64, kernel_size=(3,3), activation='relu', input_shape=(28,28,1)))"
      ],
      "id": "fd44a46d",
      "execution_count": null,
      "outputs": []
    },
    {
      "cell_type": "markdown",
      "metadata": {
        "id": "1017fc89"
      },
      "source": [
        "# Overfitting occurs\n",
        "- when model is toocomplex compared to what the model is modeling\n",
        "- the model may memorize the data set's features\n",
        "# adding a pooling layer \n",
        "- it reduces overfitting and computation time - reduce dimensionality of convert\n",
        "- compresse(down-samples)- discarding features (generalize very well )\n",
        "- Max pooling is usually used, 2*2 square features - max value"
      ],
      "id": "1017fc89"
    },
    {
      "cell_type": "code",
      "metadata": {
        "id": "ea0239c6"
      },
      "source": [
        "cnn.add(MaxPool2D(pool_size=(2,2)))"
      ],
      "id": "ea0239c6",
      "execution_count": null,
      "outputs": []
    },
    {
      "cell_type": "code",
      "metadata": {
        "id": "050a8767"
      },
      "source": [
        "cnn.add(Conv2D(filters=128, kernel_size=(3,3), activation='relu'))"
      ],
      "id": "050a8767",
      "execution_count": null,
      "outputs": []
    },
    {
      "cell_type": "code",
      "metadata": {
        "id": "9b869460"
      },
      "source": [
        "cnn.add(MaxPool2D(pool_size=(2,2)))"
      ],
      "id": "9b869460",
      "execution_count": null,
      "outputs": []
    },
    {
      "cell_type": "markdown",
      "metadata": {
        "id": "9b266bd2"
      },
      "source": [
        "# Flattening the results \n",
        "- Models final output 1d array - 10 probabilities\n",
        "- flatten to one D\n",
        "- Output 1 by 3200 (55128)"
      ],
      "id": "9b266bd2"
    },
    {
      "cell_type": "code",
      "metadata": {
        "id": "d4abe89e"
      },
      "source": [
        "cnn.add(Flatten())"
      ],
      "id": "d4abe89e",
      "execution_count": null,
      "outputs": []
    },
    {
      "cell_type": "markdown",
      "metadata": {
        "id": "38d04321"
      },
      "source": [
        "# adding a dense layer "
      ],
      "id": "38d04321"
    },
    {
      "cell_type": "code",
      "metadata": {
        "id": "2320530c"
      },
      "source": [
        "cnn.add(Dense(units=128, activation='relu'))"
      ],
      "id": "2320530c",
      "execution_count": null,
      "outputs": []
    },
    {
      "cell_type": "code",
      "metadata": {
        "id": "90d5884a"
      },
      "source": [
        "# Softmax - converts values to probabilities"
      ],
      "id": "90d5884a",
      "execution_count": null,
      "outputs": []
    },
    {
      "cell_type": "code",
      "metadata": {
        "id": "27a596c6"
      },
      "source": [
        "cnn.add(Dense(units=10, activation='softmax'))"
      ],
      "id": "27a596c6",
      "execution_count": null,
      "outputs": []
    },
    {
      "cell_type": "code",
      "metadata": {
        "id": "ff54fcad"
      },
      "source": [
        "# summary of the model. shapes, number of parameters, "
      ],
      "id": "ff54fcad",
      "execution_count": null,
      "outputs": []
    },
    {
      "cell_type": "code",
      "metadata": {
        "colab": {
          "base_uri": "https://localhost:8080/"
        },
        "id": "6a84d7a0",
        "outputId": "375b1818-457e-4ce9-ec44-f4023d251fa5"
      },
      "source": [
        "cnn.summary()"
      ],
      "id": "6a84d7a0",
      "execution_count": null,
      "outputs": [
        {
          "name": "stdout",
          "output_type": "stream",
          "text": [
            "Model: \"sequential\"\n",
            "_________________________________________________________________\n",
            " Layer (type)                Output Shape              Param #   \n",
            "=================================================================\n",
            " conv2d (Conv2D)             (None, 26, 26, 64)        640       \n",
            "                                                                 \n",
            " max_pooling2d (MaxPooling2D  (None, 13, 13, 64)       0         \n",
            " )                                                               \n",
            "                                                                 \n",
            " conv2d_1 (Conv2D)           (None, 11, 11, 128)       73856     \n",
            "                                                                 \n",
            " max_pooling2d_1 (MaxPooling  (None, 5, 5, 128)        0         \n",
            " 2D)                                                             \n",
            "                                                                 \n",
            " flatten (Flatten)           (None, 3200)              0         \n",
            "                                                                 \n",
            " dense (Dense)               (None, 128)               409728    \n",
            "                                                                 \n",
            " dense_1 (Dense)             (None, 10)                1290      \n",
            "                                                                 \n",
            "=================================================================\n",
            "Total params: 485,514\n",
            "Trainable params: 485,514\n",
            "Non-trainable params: 0\n",
            "_________________________________________________________________\n"
          ]
        }
      ]
    },
    {
      "cell_type": "code",
      "metadata": {
        "id": "1c339505"
      },
      "source": [
        "# Visualising the Model Structure"
      ],
      "id": "1c339505",
      "execution_count": null,
      "outputs": []
    },
    {
      "cell_type": "code",
      "metadata": {
        "id": "8f289a32"
      },
      "source": [
        "# plot_model function from tensorflow.eras.utils"
      ],
      "id": "8f289a32",
      "execution_count": null,
      "outputs": []
    },
    {
      "cell_type": "code",
      "metadata": {
        "id": "239f217c"
      },
      "source": [
        "from tensorflow.keras.utils import plot_model"
      ],
      "id": "239f217c",
      "execution_count": null,
      "outputs": []
    },
    {
      "cell_type": "code",
      "metadata": {
        "id": "76a3abe4"
      },
      "source": [
        "from IPython.display import Image"
      ],
      "id": "76a3abe4",
      "execution_count": null,
      "outputs": []
    },
    {
      "cell_type": "code",
      "metadata": {
        "colab": {
          "base_uri": "https://localhost:8080/",
          "height": 865
        },
        "id": "95931c8e",
        "outputId": "a015233c-574e-42e4-c1c4-67a6e8ac2503"
      },
      "source": [
        "plot_model(cnn, to_file ='convnet.png', show_shapes=True, show_layer_names=True)\n",
        "Image(filename='convnet.png')"
      ],
      "id": "95931c8e",
      "execution_count": null,
      "outputs": [
        {
          "data": {
            "image/png": "[encoded data removed]",
            "text/plain": [
              "<IPython.core.display.Image object>"
            ]
          },
          "execution_count": 62,
          "metadata": {},
          "output_type": "execute_result"
        }
      ]
    },
    {
      "cell_type": "code",
      "metadata": {
        "id": "24cc7188"
      },
      "source": [
        "# Compiling the model"
      ],
      "id": "24cc7188",
      "execution_count": null,
      "outputs": []
    },
    {
      "cell_type": "code",
      "metadata": {
        "id": "986d47f1"
      },
      "source": [
        "cnn.compile(optimizer='adam', loss='categorical_crossentropy',metrics=['accuracy'])"
      ],
      "id": "986d47f1",
      "execution_count": null,
      "outputs": []
    },
    {
      "cell_type": "code",
      "metadata": {
        "colab": {
          "base_uri": "https://localhost:8080/"
        },
        "id": "ab16e1ac",
        "outputId": "89501d97-d001-4c57-cfa2-e20734a15729"
      },
      "source": [
        "cnn"
      ],
      "id": "ab16e1ac",
      "execution_count": null,
      "outputs": [
        {
          "data": {
            "text/plain": [
              "<keras.engine.sequential.Sequential at 0x7fcee8fcc310>"
            ]
          },
          "execution_count": 65,
          "metadata": {},
          "output_type": "execute_result"
        }
      ]
    },
    {
      "cell_type": "code",
      "metadata": {
        "id": "fd69bc1b"
      },
      "source": [
        "# training and evaluating the model"
      ],
      "id": "fd69bc1b",
      "execution_count": null,
      "outputs": []
    },
    {
      "cell_type": "code",
      "metadata": {
        "id": "b6e9b076"
      },
      "source": [
        "# fit method, epochs -hyperparameter- tuned, batch_size- the number of \n",
        "#samples to process"
      ],
      "id": "b6e9b076",
      "execution_count": null,
      "outputs": []
    },
    {
      "cell_type": "code",
      "metadata": {
        "id": "laYLJH6JW_oD"
      },
      "source": [
        "from tensorflow.keras.callbacks import TensorBoard"
      ],
      "id": "laYLJH6JW_oD",
      "execution_count": null,
      "outputs": []
    },
    {
      "cell_type": "code",
      "metadata": {
        "id": "ce999258"
      },
      "source": [
        "import time  "
      ],
      "id": "ce999258",
      "execution_count": null,
      "outputs": []
    },
    {
      "cell_type": "code",
      "metadata": {
        "id": "Fw58cHxDXU-4"
      },
      "source": [
        "logdir=os.path.join(\"logs\", datetime.datetime.now().strftime(\"%Y%m%d-%H%M%S\"))\n",
        "tensorboard_callback =tf.keras.callbacks.TensorBoard(logdir, histogram_freq=1)"
      ],
      "id": "Fw58cHxDXU-4",
      "execution_count": null,
      "outputs": []
    },
    {
      "cell_type": "code",
      "metadata": {
        "colab": {
          "base_uri": "https://localhost:8080/",
          "height": 821
        },
        "id": "zUWUZgocXVTL",
        "outputId": "a7fb82c9-db45-4ee6-cf88-29ec5c32e8a1"
      },
      "source": [
        "%tensorboard --logdir logs"
      ],
      "id": "zUWUZgocXVTL",
      "execution_count": null,
      "outputs": []
    },
    {
      "cell_type": "code",
      "metadata": {
        "id": "e809c5ef"
      },
      "source": [
        "tensorboard_callback= TensorBoard(log_dir=f'./logsmnist{time.time()}', histogram_freq=1, write_graph=True)"
      ],
      "id": "e809c5ef",
      "execution_count": null,
      "outputs": []
    },
    {
      "cell_type": "code",
      "metadata": {
        "colab": {
          "background_save": true,
          "base_uri": "https://localhost:8080/"
        },
        "id": "7d04bf16",
        "outputId": "b03f1bc5-a290-40ea-d987-a99966d0c97f"
      },
      "source": [
        "cnn.fit(X_train,Y_train, epochs=5, batch_size=64, validation_split= 0.1, callbacks=[tensorboard_callback])"
      ],
      "id": "7d04bf16",
      "execution_count": null,
      "outputs": [
        {
          "name": "stdout",
          "output_type": "stream",
          "text": [
            "Epoch 1/5\n",
            "844/844 [==============================] - 99s 117ms/step - loss: 0.1420 - accuracy: 0.9567 - val_loss: 0.0544 - val_accuracy: 0.9850\n",
            "Epoch 2/5\n",
            "844/844 [==============================] - 98s 117ms/step - loss: 0.0439 - accuracy: 0.9864 - val_loss: 0.0388 - val_accuracy: 0.9883\n",
            "Epoch 3/5\n",
            "844/844 [==============================] - 97s 115ms/step - loss: 0.0300 - accuracy: 0.9902 - val_loss: 0.0415 - val_accuracy: 0.9888\n",
            "Epoch 4/5\n",
            "844/844 [==============================] - 96s 114ms/step - loss: 0.0210 - accuracy: 0.9931 - val_loss: 0.0348 - val_accuracy: 0.9903\n",
            "Epoch 5/5\n",
            "844/844 [==============================] - 96s 114ms/step - loss: 0.0169 - accuracy: 0.9945 - val_loss: 0.0387 - val_accuracy: 0.9895\n"
          ]
        },
        {
          "data": {
            "text/plain": [
              "<keras.callbacks.History at 0x7fcedc9a9710>"
            ]
          },
          "execution_count": null,
          "metadata": {},
          "output_type": "execute_result"
        }
      ]
    },
    {
      "cell_type": "code",
      "metadata": {
        "colab": {
          "background_save": true
        },
        "id": "993d4bbc"
      },
      "source": [
        "# Evaluation the model on unseen data with Models evaluate method"
      ],
      "id": "993d4bbc",
      "execution_count": null,
      "outputs": []
    },
    {
      "cell_type": "code",
      "metadata": {
        "colab": {
          "base_uri": "https://localhost:8080/"
        },
        "id": "f883cedd",
        "outputId": "fd88cd19-c14a-4e0a-b337-5356de0f0ea1"
      },
      "source": [
        "loss, accuracy= cnn.evaluate(X_test,Y_test)"
      ],
      "id": "f883cedd",
      "execution_count": null,
      "outputs": [
        {
          "name": "stdout",
          "output_type": "stream",
          "text": [
            " 17/313 [>.............................] - ETA: 4s - loss: 0.0276 - accuracy: 0.9890"
          ]
        }
      ]
    },
    {
      "cell_type": "code",
      "metadata": {
        "id": "18b3b33c"
      },
      "source": [
        "loss"
      ],
      "id": "18b3b33c",
      "execution_count": null,
      "outputs": []
    },
    {
      "cell_type": "code",
      "metadata": {
        "id": "e45eb072"
      },
      "source": [
        "accuracy"
      ],
      "id": "e45eb072",
      "execution_count": null,
      "outputs": []
    },
    {
      "cell_type": "code",
      "metadata": {
        "id": "c74eb7f6"
      },
      "source": [
        "# without tuning the convnet we have achieved 99+ accuracy on unseen data"
      ],
      "id": "c74eb7f6",
      "execution_count": null,
      "outputs": []
    },
    {
      "cell_type": "code",
      "metadata": {
        "id": "aea14044"
      },
      "source": [
        "# Making predictions with the Model's predict method"
      ],
      "id": "aea14044",
      "execution_count": null,
      "outputs": []
    },
    {
      "cell_type": "code",
      "metadata": {
        "id": "493b267b"
      },
      "source": [
        "predictions= cnn.predict(X_test)"
      ],
      "id": "493b267b",
      "execution_count": null,
      "outputs": []
    },
    {
      "cell_type": "code",
      "metadata": {
        "id": "69ba4e62"
      },
      "source": [
        "Y_test[0]"
      ],
      "id": "69ba4e62",
      "execution_count": null,
      "outputs": []
    },
    {
      "cell_type": "code",
      "metadata": {
        "id": "5bd41f84"
      },
      "source": [
        "predictions[1]"
      ],
      "id": "5bd41f84",
      "execution_count": null,
      "outputs": []
    },
    {
      "cell_type": "code",
      "metadata": {
        "id": "70149816"
      },
      "source": [
        "for index, probability in enumerate(predictions[1]):\n",
        "    print(f'{index}: {probability:.10%}')"
      ],
      "id": "70149816",
      "execution_count": null,
      "outputs": []
    },
    {
      "cell_type": "code",
      "metadata": {
        "id": "e6db458e"
      },
      "source": [
        "# locating incorrect predictions"
      ],
      "id": "e6db458e",
      "execution_count": null,
      "outputs": []
    },
    {
      "cell_type": "code",
      "metadata": {
        "id": "ad2cda98"
      },
      "source": [
        "# reshape the samples (28,28,1) - keras - (28,28)"
      ],
      "id": "ad2cda98",
      "execution_count": null,
      "outputs": []
    },
    {
      "cell_type": "code",
      "metadata": {
        "id": "94c566d6"
      },
      "source": [
        "image= X_test.reshape((10000,28,28))"
      ],
      "id": "94c566d6",
      "execution_count": null,
      "outputs": []
    },
    {
      "cell_type": "code",
      "metadata": {
        "id": "0cbb1689"
      },
      "source": [
        "incorrect_prediction=[]"
      ],
      "id": "0cbb1689",
      "execution_count": null,
      "outputs": []
    },
    {
      "cell_type": "code",
      "metadata": {
        "id": "9f871b87"
      },
      "source": [
        "for i,(p,e) in enumerate(zip(predictions, Y_test)):\n",
        "       predicted, expected = np.argmax(p), np.argmax(e)\n",
        "       \n",
        "       if predicted != expected:\n",
        "           incorrect_prediction.append((i,image[i],predicted,expected))"
      ],
      "id": "9f871b87",
      "execution_count": null,
      "outputs": []
    },
    {
      "cell_type": "code",
      "metadata": {
        "id": "6f6fe9ba"
      },
      "source": [
        "len(incorrect_prediction)"
      ],
      "id": "6f6fe9ba",
      "execution_count": null,
      "outputs": []
    },
    {
      "cell_type": "code",
      "metadata": {
        "id": "3efa63eb"
      },
      "source": [
        "# Visualizing the incorrect predictions"
      ],
      "id": "3efa63eb",
      "execution_count": null,
      "outputs": []
    },
    {
      "cell_type": "code",
      "metadata": {
        "id": "4be66037"
      },
      "source": [
        "figuer, axes=plt.subplots(nrows=4,ncols=6,figsize=(16,12))\n",
        "for axes, item in zip(axes.ravel(), incorrect_prediction):\n",
        "    index, image, predicted, expected = item\n",
        "    axes.imshow(image, cmap=plt.cm.gray_r)\n",
        "    axes.set_xticks([])\n",
        "    axes.set_yticks([])\n",
        "    axes.set_title(f'index:{index} \\np: {predicted}; e: {expected}')\n",
        "plt.tight_layout()"
      ],
      "id": "4be66037",
      "execution_count": null,
      "outputs": []
    },
    {
      "cell_type": "code",
      "metadata": {
        "id": "e96795d2"
      },
      "source": [
        "def display_probabilities(prediction):\n",
        "    for index,probability in enumerate(prediction):\n",
        "        print(f'{index}: {probability: .10%}')"
      ],
      "id": "e96795d2",
      "execution_count": null,
      "outputs": []
    },
    {
      "cell_type": "code",
      "metadata": {
        "id": "e6186053"
      },
      "source": [
        "display_probabilities([1232])"
      ],
      "id": "e6186053",
      "execution_count": null,
      "outputs": []
    },
    {
      "cell_type": "code",
      "metadata": {
        "id": "58ac85d2"
      },
      "source": [
        "cnn.save('mnist_cnn.h5')"
      ],
      "id": "58ac85d2",
      "execution_count": null,
      "outputs": []
    },
    {
      "cell_type": "code",
      "metadata": {
        "id": "3e217ea3"
      },
      "source": [
        ""
      ],
      "id": "3e217ea3",
      "execution_count": null,
      "outputs": []
    }
  ]
}