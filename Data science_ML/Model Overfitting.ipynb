{
 "cells": [
  {
   "cell_type": "code",
   "execution_count": 1,
   "id": "0820cdfe",
   "metadata": {},
   "outputs": [],
   "source": [
    "# create dataset. 2D. The total number of values will be 1500 labeled (0 or a 1) instances.\n",
    "\n"
   ]
  },
  {
   "cell_type": "code",
   "execution_count": 2,
   "id": "7c5e418e",
   "metadata": {},
   "outputs": [],
   "source": [
    "import numpy as np\n",
    "import matplotlib.pyplot as plt\n",
    "from numpy.random import random\n",
    "%matplotlib inline"
   ]
  },
  {
   "cell_type": "code",
   "execution_count": 3,
   "id": "1bc2c4b0",
   "metadata": {},
   "outputs": [],
   "source": [
    "N= 1500"
   ]
  },
  {
   "cell_type": "code",
   "execution_count": 4,
   "id": "ec4c254e",
   "metadata": {},
   "outputs": [],
   "source": [
    "mean1=[6,14]\n",
    "mean2=[10,6]\n",
    "mean3=[14,14]\n",
    "cov=[[3.5,0],[0,3.5]]"
   ]
  },
  {
   "cell_type": "code",
   "execution_count": 5,
   "id": "a01deeba",
   "metadata": {},
   "outputs": [],
   "source": [
    "np.random.seed(50)"
   ]
  },
  {
   "cell_type": "code",
   "execution_count": 6,
   "id": "f718909a",
   "metadata": {},
   "outputs": [],
   "source": [
    "x= np.random.multivariate_normal(mean1, cov, int(N/6))"
   ]
  },
  {
   "cell_type": "code",
   "execution_count": 7,
   "id": "2a6dd717",
   "metadata": {},
   "outputs": [
    {
     "data": {
      "text/plain": [
       "array([[ 3.0808485 , 13.94204621],\n",
       "       [ 4.83834929, 11.2600208 ],\n",
       "       [ 8.64150932, 13.10811583],\n",
       "       [ 4.5398758 , 16.00228759],\n",
       "       [ 3.60105022, 11.51651438],\n",
       "       [ 6.23635608, 15.61301674],\n",
       "       [ 7.3034755 , 13.37408585],\n",
       "       [ 4.13379962, 16.99128351],\n",
       "       [12.20006725, 15.84794932],\n",
       "       [ 6.23173255, 15.38962423],\n",
       "       [ 5.26297609, 14.27709932],\n",
       "       [ 5.22877996, 13.69932965],\n",
       "       [ 6.26103949, 14.53406429],\n",
       "       [ 5.47380699, 17.2008145 ],\n",
       "       [ 5.71981227, 15.29144562],\n",
       "       [ 8.04894938, 16.50393341],\n",
       "       [ 3.43886981, 14.91002276],\n",
       "       [ 7.40970998, 14.67997999],\n",
       "       [ 5.4112306 , 16.56917381],\n",
       "       [ 4.83182245, 14.70297136],\n",
       "       [ 5.62505541, 15.39009692],\n",
       "       [ 7.60397735, 11.18217787],\n",
       "       [ 2.88254055, 13.59029824],\n",
       "       [ 5.32863735, 14.70816047],\n",
       "       [ 7.28004974, 11.81514136],\n",
       "       [ 4.51602759, 13.92734563],\n",
       "       [11.06106866, 11.20986759],\n",
       "       [ 6.17955827, 14.98159895],\n",
       "       [ 7.52597042, 14.09635854],\n",
       "       [ 5.69214511, 14.52046345],\n",
       "       [ 6.16297668, 14.06411025],\n",
       "       [ 7.39670255, 12.23461573],\n",
       "       [ 5.54019396, 16.07310448],\n",
       "       [ 6.07297708, 13.60101456],\n",
       "       [ 4.33317654, 13.49366707],\n",
       "       [ 6.41577993, 14.4711001 ],\n",
       "       [ 7.32440844, 14.92417035],\n",
       "       [ 8.75199213, 12.91001878],\n",
       "       [ 9.86479438, 16.03515085],\n",
       "       [ 7.50637076, 11.02933948],\n",
       "       [ 8.30277591,  9.55967532],\n",
       "       [ 5.9417967 ,  6.87234776],\n",
       "       [ 5.62761213, 14.65559589],\n",
       "       [ 5.90168648, 12.81336875],\n",
       "       [ 5.32101807,  9.19024954],\n",
       "       [ 6.25726652, 12.65432005],\n",
       "       [ 7.36294152, 17.03400799],\n",
       "       [ 8.8467694 , 11.55525077],\n",
       "       [ 4.33539593, 14.00985504],\n",
       "       [ 7.62093251, 12.99810467],\n",
       "       [ 5.5170476 , 14.08822109],\n",
       "       [ 5.20103427, 13.77319389],\n",
       "       [ 5.6846259 , 13.63350666],\n",
       "       [ 5.63828815, 14.5549441 ],\n",
       "       [ 4.57771104,  9.42635557],\n",
       "       [ 5.00745559, 15.57588432],\n",
       "       [ 5.69171354, 11.59766564],\n",
       "       [ 6.37448656, 15.58741513],\n",
       "       [ 2.80117211, 11.03722646],\n",
       "       [ 3.9411722 , 11.83496939],\n",
       "       [ 9.3825422 , 11.92117517],\n",
       "       [ 7.62839801, 15.40119986],\n",
       "       [ 7.32741389, 14.59146142],\n",
       "       [ 4.54409446, 12.99730767],\n",
       "       [ 3.803961  , 12.25115644],\n",
       "       [ 3.94201426, 13.94762837],\n",
       "       [ 4.80150582, 14.79366286],\n",
       "       [ 8.17551704, 18.61041835],\n",
       "       [ 5.74435253, 11.05166213],\n",
       "       [ 8.58684654, 13.70196952],\n",
       "       [ 7.4666538 , 11.72494639],\n",
       "       [ 5.01616435, 14.30301729],\n",
       "       [ 4.27253747, 16.36235727],\n",
       "       [ 9.05881395, 14.62151417],\n",
       "       [ 4.95873692, 12.65720688],\n",
       "       [ 5.38987336, 13.28293108],\n",
       "       [ 4.66650216, 15.23558333],\n",
       "       [ 4.41981588, 13.85632303],\n",
       "       [ 8.84326638, 12.3594475 ],\n",
       "       [ 6.00297787, 12.96067772],\n",
       "       [ 6.62006552, 12.9755156 ],\n",
       "       [ 2.48772202, 12.71742517],\n",
       "       [ 4.44030097, 15.65596324],\n",
       "       [ 5.57764549, 13.98725876],\n",
       "       [ 6.01851077, 13.86464714],\n",
       "       [ 3.63573541, 11.217633  ],\n",
       "       [ 3.33563996, 12.11788198],\n",
       "       [ 3.01312937, 14.29078791],\n",
       "       [10.82578046, 13.19637296],\n",
       "       [ 0.75986037, 14.03595655],\n",
       "       [ 3.58448857, 15.39359022],\n",
       "       [ 6.09005344, 11.40303017],\n",
       "       [ 7.35742367, 13.61166005],\n",
       "       [ 5.73103738, 13.01654049],\n",
       "       [11.07395754, 13.85428099],\n",
       "       [ 6.15358984, 14.12034589],\n",
       "       [ 4.25933264, 13.8791892 ],\n",
       "       [ 5.84034545, 17.31452409],\n",
       "       [ 4.19358243, 16.56369809],\n",
       "       [ 4.93871912, 11.99978774],\n",
       "       [ 7.05705901, 14.10713268],\n",
       "       [ 6.45194513, 14.90954573],\n",
       "       [ 5.32007836, 14.91485745],\n",
       "       [ 7.1884494 , 15.49933941],\n",
       "       [ 5.25462345, 13.35466561],\n",
       "       [ 3.32066147, 11.62275311],\n",
       "       [ 6.82121474, 14.29041991],\n",
       "       [ 5.09406679, 13.43284025],\n",
       "       [ 5.89019896, 16.8005892 ],\n",
       "       [ 7.56778797, 14.44099332],\n",
       "       [ 4.36120261, 13.54481496],\n",
       "       [ 8.95192524, 17.25601838],\n",
       "       [ 8.03828436, 16.28647207],\n",
       "       [ 6.88179888, 11.27485335],\n",
       "       [ 7.05573134, 11.93004398],\n",
       "       [ 3.87039244, 15.05755871],\n",
       "       [ 7.33700346, 16.39513389],\n",
       "       [ 6.7020943 , 15.8741841 ],\n",
       "       [ 4.61681226, 10.85072641],\n",
       "       [ 6.80158623, 13.1353068 ],\n",
       "       [ 2.2178375 , 11.67845023],\n",
       "       [ 8.73024171, 14.65893088],\n",
       "       [ 5.70358528, 14.7649876 ],\n",
       "       [ 7.42403423, 12.16023677],\n",
       "       [ 4.86227624, 11.32396368],\n",
       "       [ 5.53549401, 11.17463201],\n",
       "       [ 6.71800557, 16.10342265],\n",
       "       [ 5.63194019, 12.35334172],\n",
       "       [ 5.54856993, 14.76259512],\n",
       "       [ 5.24969944, 12.9607006 ],\n",
       "       [ 5.48374153, 15.27537988],\n",
       "       [ 5.06669883, 12.42422429],\n",
       "       [ 2.62214759, 17.45797201],\n",
       "       [ 7.67075021, 18.119714  ],\n",
       "       [ 7.67818713, 15.08123024],\n",
       "       [ 5.2412547 , 15.18736388],\n",
       "       [ 5.16055085, 15.29002575],\n",
       "       [ 6.75072168, 13.58067962],\n",
       "       [10.35244103, 12.54988066],\n",
       "       [ 7.62135979, 13.19505134],\n",
       "       [ 3.93123945, 12.96603373],\n",
       "       [ 4.90511608, 15.19833603],\n",
       "       [ 7.58283145, 15.26467046],\n",
       "       [ 4.4891826 , 13.09261494],\n",
       "       [ 2.34774122, 15.72117542],\n",
       "       [ 7.51156316, 13.26681377],\n",
       "       [ 6.10638921, 10.35923294],\n",
       "       [ 3.47025775, 14.82530913],\n",
       "       [ 3.97305073, 12.83835103],\n",
       "       [ 6.55307563, 13.76608067],\n",
       "       [ 6.90219552, 15.58185311],\n",
       "       [ 8.14751806, 14.55963995],\n",
       "       [ 8.05430213, 14.09935488],\n",
       "       [ 4.44630606, 15.07395405],\n",
       "       [ 7.53433715, 16.39361369],\n",
       "       [ 2.24432045, 12.64338432],\n",
       "       [ 3.81161273, 15.52442958],\n",
       "       [ 3.83017033, 11.00471417],\n",
       "       [ 6.27918183, 17.52629057],\n",
       "       [ 7.9295826 , 10.65508578],\n",
       "       [ 6.21586692, 15.10528768],\n",
       "       [ 5.44618015, 14.4815215 ],\n",
       "       [ 9.41166242, 14.44283736],\n",
       "       [ 4.29287989, 15.10732563],\n",
       "       [ 6.48390408, 13.73168612],\n",
       "       [ 3.73239181, 12.47558817],\n",
       "       [ 8.68606582, 13.12720225],\n",
       "       [ 6.45275447, 12.03768004],\n",
       "       [ 5.27880055, 15.07603614],\n",
       "       [ 5.81499876, 12.653341  ],\n",
       "       [ 4.68258346, 10.67261149],\n",
       "       [ 5.33343137, 13.57931196],\n",
       "       [ 4.60711238, 11.76439198],\n",
       "       [ 8.99900059, 14.73360621],\n",
       "       [ 4.74651693, 13.81153156],\n",
       "       [ 5.69786961, 15.36244147],\n",
       "       [ 6.41821593, 12.34395045],\n",
       "       [ 5.1641152 , 13.57930838],\n",
       "       [ 6.4026708 , 16.35272295],\n",
       "       [ 5.32341407, 13.0936054 ],\n",
       "       [ 8.00446013, 15.25681447],\n",
       "       [ 5.03991198, 11.54425349],\n",
       "       [ 4.92137786, 14.32651341],\n",
       "       [ 9.48438001, 12.73110814],\n",
       "       [ 4.53906539, 14.91639608],\n",
       "       [ 6.56747961, 12.76760137],\n",
       "       [ 5.01302059, 14.17190339],\n",
       "       [ 8.70146378, 11.0518289 ],\n",
       "       [ 5.50989139, 14.15561682],\n",
       "       [ 7.78838023, 13.79018776],\n",
       "       [ 8.1601606 , 14.02861355],\n",
       "       [ 9.05020922, 11.55587025],\n",
       "       [ 5.57991444, 12.92686247],\n",
       "       [ 6.19586217, 13.10061647],\n",
       "       [ 7.74843763, 14.33282924],\n",
       "       [ 4.34658095, 13.92885184],\n",
       "       [ 7.57678199, 15.08603154],\n",
       "       [ 7.20926163, 14.60672032],\n",
       "       [ 4.71408445, 12.75252488],\n",
       "       [ 3.97325472, 12.29207201],\n",
       "       [ 5.41747767, 15.89157872],\n",
       "       [ 2.97093733, 11.55953935],\n",
       "       [ 6.28063166, 15.93122023],\n",
       "       [ 5.53064255, 11.77642461],\n",
       "       [ 0.86824481, 14.96410539],\n",
       "       [ 5.93287874, 14.6754811 ],\n",
       "       [ 5.2822784 , 14.14321146],\n",
       "       [ 7.89469665, 14.71237105],\n",
       "       [ 6.73208292, 13.53891124],\n",
       "       [ 6.60104435, 15.72188167],\n",
       "       [ 5.22938695, 10.57199747],\n",
       "       [ 6.62931518, 14.26829891],\n",
       "       [ 3.30537382, 16.02723001],\n",
       "       [ 5.70629436,  9.98071689],\n",
       "       [ 3.59665946, 13.36971892],\n",
       "       [ 7.42792384, 13.48294824],\n",
       "       [ 5.87121292, 14.92227149],\n",
       "       [ 7.15115221, 15.29468287],\n",
       "       [ 3.32564814, 16.62098805],\n",
       "       [ 3.34322958, 14.78921775],\n",
       "       [ 5.52355213, 14.37262115],\n",
       "       [ 1.26672037, 12.73230225],\n",
       "       [ 4.49989625, 10.47347162],\n",
       "       [ 5.71775886, 13.89809977],\n",
       "       [ 4.34297339, 13.77101849],\n",
       "       [ 5.33883102,  9.79185443],\n",
       "       [ 3.35044766, 14.26581986],\n",
       "       [ 4.9000163 , 15.63997385],\n",
       "       [ 7.76644403, 13.29588714],\n",
       "       [ 5.49522626, 13.39093364],\n",
       "       [ 6.74705894, 12.06448523],\n",
       "       [ 5.54170931, 12.37255324],\n",
       "       [ 7.29237143, 14.7182513 ],\n",
       "       [ 3.01106225, 11.48147093],\n",
       "       [ 4.98918132, 14.06246403],\n",
       "       [ 6.54480589, 14.85793882],\n",
       "       [ 4.35690061, 15.23470627],\n",
       "       [ 6.79418882, 14.32051784],\n",
       "       [ 5.57619595, 14.93985812],\n",
       "       [ 4.82259429, 12.1127525 ],\n",
       "       [ 6.90879778, 11.12246596],\n",
       "       [ 7.7800464 , 15.90352405],\n",
       "       [ 9.3191319 , 14.87162466],\n",
       "       [ 6.66797364, 13.95658187],\n",
       "       [ 6.24552749, 13.03051429],\n",
       "       [ 7.84071491, 17.01376733],\n",
       "       [ 5.1225415 , 14.59265735],\n",
       "       [ 5.08802523, 11.45458487],\n",
       "       [ 4.27350413, 11.1595813 ],\n",
       "       [ 7.25697067, 12.40021902]])"
      ]
     },
     "execution_count": 7,
     "metadata": {},
     "output_type": "execute_result"
    }
   ],
   "source": [
    "x"
   ]
  },
  {
   "cell_type": "code",
   "execution_count": 8,
   "id": "e5705231",
   "metadata": {},
   "outputs": [
    {
     "data": {
      "text/plain": [
       "(250, 2)"
      ]
     },
     "execution_count": 8,
     "metadata": {},
     "output_type": "execute_result"
    }
   ],
   "source": [
    "x.shape"
   ]
  },
  {
   "cell_type": "code",
   "execution_count": 9,
   "id": "6b4f2eae",
   "metadata": {},
   "outputs": [
    {
     "data": {
      "text/plain": [
       "250.0"
      ]
     },
     "execution_count": 9,
     "metadata": {},
     "output_type": "execute_result"
    }
   ],
   "source": [
    "1500/6"
   ]
  },
  {
   "cell_type": "code",
   "execution_count": 10,
   "id": "1fdeebc3",
   "metadata": {},
   "outputs": [],
   "source": [
    "x= np.concatenate((x,np.random.multivariate_normal(mean2, cov, int(N/6))))"
   ]
  },
  {
   "cell_type": "code",
   "execution_count": 11,
   "id": "311d90d1",
   "metadata": {},
   "outputs": [
    {
     "data": {
      "text/plain": [
       "(500, 2)"
      ]
     },
     "execution_count": 11,
     "metadata": {},
     "output_type": "execute_result"
    }
   ],
   "source": [
    "x.shape"
   ]
  },
  {
   "cell_type": "code",
   "execution_count": 12,
   "id": "7e9d0def",
   "metadata": {},
   "outputs": [
    {
     "data": {
      "text/plain": [
       "array([[ 4.83834929, 11.2600208 ],\n",
       "       [ 8.64150932, 13.10811583],\n",
       "       [ 4.5398758 , 16.00228759],\n",
       "       [ 3.60105022, 11.51651438]])"
      ]
     },
     "execution_count": 12,
     "metadata": {},
     "output_type": "execute_result"
    }
   ],
   "source": [
    "x[1:5]"
   ]
  },
  {
   "cell_type": "code",
   "execution_count": 13,
   "id": "cea7c00a",
   "metadata": {},
   "outputs": [],
   "source": [
    "x= np.concatenate((x,np.random.multivariate_normal(mean3, cov, int(N/6))))"
   ]
  },
  {
   "cell_type": "code",
   "execution_count": 14,
   "id": "a9780e57",
   "metadata": {},
   "outputs": [
    {
     "data": {
      "text/plain": [
       "(750, 2)"
      ]
     },
     "execution_count": 14,
     "metadata": {},
     "output_type": "execute_result"
    }
   ],
   "source": [
    "x.shape"
   ]
  },
  {
   "cell_type": "code",
   "execution_count": 15,
   "id": "eb380a1f",
   "metadata": {},
   "outputs": [],
   "source": [
    "x= np.concatenate((x,20*np.random.rand(int(N/2),2)))"
   ]
  },
  {
   "cell_type": "code",
   "execution_count": 16,
   "id": "ca9aae25",
   "metadata": {},
   "outputs": [
    {
     "data": {
      "text/plain": [
       "(1500, 2)"
      ]
     },
     "execution_count": 16,
     "metadata": {},
     "output_type": "execute_result"
    }
   ],
   "source": [
    "x.shape"
   ]
  },
  {
   "cell_type": "code",
   "execution_count": 17,
   "id": "aaedd78e",
   "metadata": {},
   "outputs": [
    {
     "data": {
      "text/plain": [
       "array([[ 3.0808485 , 13.94204621],\n",
       "       [ 4.83834929, 11.2600208 ],\n",
       "       [ 8.64150932, 13.10811583],\n",
       "       [ 4.5398758 , 16.00228759],\n",
       "       [ 3.60105022, 11.51651438],\n",
       "       [ 6.23635608, 15.61301674],\n",
       "       [ 7.3034755 , 13.37408585],\n",
       "       [ 4.13379962, 16.99128351],\n",
       "       [12.20006725, 15.84794932],\n",
       "       [ 6.23173255, 15.38962423]])"
      ]
     },
     "execution_count": 17,
     "metadata": {},
     "output_type": "execute_result"
    }
   ],
   "source": [
    "x[:10]"
   ]
  },
  {
   "cell_type": "code",
   "execution_count": 18,
   "id": "71bbcab4",
   "metadata": {},
   "outputs": [
    {
     "data": {
      "text/plain": [
       "array([[ 1.76466494,  3.7452046 ],\n",
       "       [ 6.58291836, 14.21571156],\n",
       "       [ 1.2998482 ,  0.95104655],\n",
       "       [14.76176703,  5.83811282],\n",
       "       [ 7.49506559,  7.25361563],\n",
       "       [ 2.07047615, 19.46661159],\n",
       "       [19.25518912,  8.56802278],\n",
       "       [16.82281975,  0.94348352],\n",
       "       [ 0.05218566, 13.03902498],\n",
       "       [ 6.9613221 ,  2.26341643],\n",
       "       [ 4.6951102 , 16.85446894],\n",
       "       [11.25930605, 10.1084444 ],\n",
       "       [ 1.31628181,  5.80938612],\n",
       "       [ 8.34941478, 10.22649428],\n",
       "       [ 7.20598857, 18.68094319],\n",
       "       [ 9.8734921 ,  1.27699404],\n",
       "       [18.62089117, 10.19549965],\n",
       "       [12.60433068, 18.91501646],\n",
       "       [12.37717994, 12.75328618],\n",
       "       [ 4.93067457,  9.8400932 ],\n",
       "       [19.39662887, 11.14510605],\n",
       "       [16.51942419, 18.44184007],\n",
       "       [ 7.06947103,  6.97127855],\n",
       "       [11.12760477, 16.4436478 ],\n",
       "       [ 9.05812805,  1.06824401],\n",
       "       [ 6.83170305, 14.22336052],\n",
       "       [ 7.34493878, 13.30670442],\n",
       "       [ 5.32695165,  7.01926156],\n",
       "       [ 7.93420119, 17.12466924],\n",
       "       [ 0.47297187, 13.58574311],\n",
       "       [ 1.61430666, 16.41577211],\n",
       "       [16.14975346, 18.20675273],\n",
       "       [15.80288067,  7.02114425],\n",
       "       [ 3.31848383, 14.98306533],\n",
       "       [ 3.789667  ,  4.26727366],\n",
       "       [ 4.60706461, 15.11795507],\n",
       "       [19.55562417, 17.01635947],\n",
       "       [ 1.84677564, 17.26301986],\n",
       "       [ 9.18229426, 18.82865473],\n",
       "       [17.00591231,  3.73244214],\n",
       "       [14.28169767,  8.71541209],\n",
       "       [ 4.71326235, 15.15889764],\n",
       "       [ 4.26249099,  3.6408423 ],\n",
       "       [11.48381838, 19.91205148],\n",
       "       [15.47824175, 11.26277569],\n",
       "       [13.79044118, 10.42898367],\n",
       "       [ 7.28022548, 11.82892308],\n",
       "       [ 5.66673178,  9.00557483],\n",
       "       [10.03192675, 13.63985408],\n",
       "       [ 7.47362775,  0.87815867]])"
      ]
     },
     "execution_count": 18,
     "metadata": {},
     "output_type": "execute_result"
    }
   ],
   "source": [
    "x[750:800]"
   ]
  },
  {
   "cell_type": "code",
   "execution_count": 19,
   "id": "88aec0ad",
   "metadata": {},
   "outputs": [],
   "source": [
    "y= np.concatenate((np.ones(int(N/2)), np.zeros(int(N/2))))"
   ]
  },
  {
   "cell_type": "code",
   "execution_count": 20,
   "id": "182b0e22",
   "metadata": {},
   "outputs": [
    {
     "data": {
      "text/plain": [
       "(1500,)"
      ]
     },
     "execution_count": 20,
     "metadata": {},
     "output_type": "execute_result"
    }
   ],
   "source": [
    "y.shape"
   ]
  },
  {
   "cell_type": "code",
   "execution_count": 21,
   "id": "454033e1",
   "metadata": {
    "scrolled": true
   },
   "outputs": [
    {
     "data": {
      "text/plain": [
       "[<matplotlib.lines.Line2D at 0x2145e4e85b0>,\n",
       " <matplotlib.lines.Line2D at 0x2145e4e86d0>,\n",
       " <matplotlib.lines.Line2D at 0x2145e4e8430>]"
      ]
     },
     "execution_count": 21,
     "metadata": {},
     "output_type": "execute_result"
    },
    {
     "data": {
      "image/png": "[encoded data removed]",
      "text/plain": [
       "<Figure size 432x288 with 1 Axes>"
      ]
     },
     "metadata": {
      "needs_background": "light"
     },
     "output_type": "display_data"
    }
   ],
   "source": [
    "plt.plot(x[:int(N/2),0],x[:int(N/2)],'r+',x[int(N/2):,1],'k.',ms=4)"
   ]
  },
  {
   "cell_type": "code",
   "execution_count": 22,
   "id": "10ae2e12",
   "metadata": {},
   "outputs": [],
   "source": [
    "a=np.array([[1,2],[3,4]])"
   ]
  },
  {
   "cell_type": "code",
   "execution_count": 23,
   "id": "1cf534af",
   "metadata": {},
   "outputs": [
    {
     "data": {
      "text/plain": [
       "array([[1, 2],\n",
       "       [3, 4]])"
      ]
     },
     "execution_count": 23,
     "metadata": {},
     "output_type": "execute_result"
    }
   ],
   "source": [
    "a"
   ]
  },
  {
   "cell_type": "code",
   "execution_count": 24,
   "id": "887393d1",
   "metadata": {},
   "outputs": [
    {
     "data": {
      "text/plain": [
       "(2, 2)"
      ]
     },
     "execution_count": 24,
     "metadata": {},
     "output_type": "execute_result"
    }
   ],
   "source": [
    "a.shape"
   ]
  },
  {
   "cell_type": "code",
   "execution_count": 25,
   "id": "4e4803aa",
   "metadata": {},
   "outputs": [
    {
     "data": {
      "text/plain": [
       "2"
      ]
     },
     "execution_count": 25,
     "metadata": {},
     "output_type": "execute_result"
    }
   ],
   "source": [
    "a.ndim"
   ]
  },
  {
   "cell_type": "code",
   "execution_count": null,
   "id": "2da2540a",
   "metadata": {},
   "outputs": [],
   "source": []
  }
 ],
 "metadata": {
  "kernelspec": {
   "display_name": "Python 3",
   "language": "python",
   "name": "python3"
  },
  "language_info": {
   "codemirror_mode": {
    "name": "ipython",
    "version": 3
   },
   "file_extension": ".py",
   "mimetype": "text/x-python",
   "name": "python",
   "nbconvert_exporter": "python",
   "pygments_lexer": "ipython3",
   "version": "3.8.8"
  }
 },
 "nbformat": 4,
 "nbformat_minor": 5
}
