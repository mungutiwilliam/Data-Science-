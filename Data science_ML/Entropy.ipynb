{
 "cells": [
  {
   "cell_type": "code",
   "execution_count": 1,
   "id": "5fa0ccbe",
   "metadata": {},
   "outputs": [],
   "source": [
    "import numpy as np"
   ]
  },
  {
   "cell_type": "code",
   "execution_count": 2,
   "id": "c72a1a28",
   "metadata": {},
   "outputs": [
    {
     "data": {
      "text/plain": [
       "0.5"
      ]
     },
     "execution_count": 2,
     "metadata": {},
     "output_type": "execute_result"
    }
   ],
   "source": [
    "(-1/2)*(np.log2(1/2))"
   ]
  },
  {
   "cell_type": "code",
   "execution_count": 3,
   "id": "3e377f9d",
   "metadata": {},
   "outputs": [
    {
     "data": {
      "text/plain": [
       "0.5"
      ]
     },
     "execution_count": 3,
     "metadata": {},
     "output_type": "execute_result"
    }
   ],
   "source": [
    "(-1/2)*(np.log2(1/2))"
   ]
  },
  {
   "cell_type": "code",
   "execution_count": 4,
   "id": "39dc4fda",
   "metadata": {},
   "outputs": [
    {
     "data": {
      "text/plain": [
       "1.0"
      ]
     },
     "execution_count": 4,
     "metadata": {},
     "output_type": "execute_result"
    }
   ],
   "source": [
    "0.5+0.5"
   ]
  },
  {
   "cell_type": "markdown",
   "id": "a35ae91c",
   "metadata": {},
   "source": [
    "Entropy of parent node is 1 by adding the values"
   ]
  },
  {
   "cell_type": "markdown",
   "id": "422e1b06",
   "metadata": {},
   "source": [
    "# Entropy of X left child"
   ]
  },
  {
   "cell_type": "code",
   "execution_count": 5,
   "id": "7acf6018",
   "metadata": {},
   "outputs": [
    {
     "data": {
      "text/plain": [
       "-0.0"
      ]
     },
     "execution_count": 5,
     "metadata": {},
     "output_type": "execute_result"
    }
   ],
   "source": [
    "(-1/1)* (np.log2(1/1))"
   ]
  },
  {
   "cell_type": "markdown",
   "id": "94dfc9e8",
   "metadata": {},
   "source": [
    "# Entropy of X Right child"
   ]
  },
  {
   "cell_type": "code",
   "execution_count": 6,
   "id": "7ccb521d",
   "metadata": {},
   "outputs": [
    {
     "data": {
      "text/plain": [
       "0.38997500048077083"
      ]
     },
     "execution_count": 6,
     "metadata": {},
     "output_type": "execute_result"
    }
   ],
   "source": [
    "(-2/3)*(np.log2(2/3))"
   ]
  },
  {
   "cell_type": "code",
   "execution_count": 7,
   "id": "7f42258a",
   "metadata": {},
   "outputs": [
    {
     "data": {
      "text/plain": [
       "0.5283208335737187"
      ]
     },
     "execution_count": 7,
     "metadata": {},
     "output_type": "execute_result"
    }
   ],
   "source": [
    "(-1/3)*(np.log2(1/3))"
   ]
  },
  {
   "cell_type": "code",
   "execution_count": 8,
   "id": "9cf11a25",
   "metadata": {},
   "outputs": [
    {
     "data": {
      "text/plain": [
       "0.9182958340544896"
      ]
     },
     "execution_count": 8,
     "metadata": {},
     "output_type": "execute_result"
    }
   ],
   "source": [
    "0.38997500048077083 + 0.5283208335737187"
   ]
  },
  {
   "cell_type": "markdown",
   "id": "a8a9aa41",
   "metadata": {},
   "source": [
    "# Information Gain"
   ]
  },
  {
   "cell_type": "code",
   "execution_count": 9,
   "id": "f9615354",
   "metadata": {},
   "outputs": [
    {
     "data": {
      "text/plain": [
       "0.6887218755408672"
      ]
     },
     "execution_count": 9,
     "metadata": {},
     "output_type": "execute_result"
    }
   ],
   "source": [
    "0.9182958340544896 *3/4"
   ]
  },
  {
   "cell_type": "code",
   "execution_count": 10,
   "id": "8d467d47",
   "metadata": {},
   "outputs": [
    {
     "data": {
      "text/plain": [
       "-0.0"
      ]
     },
     "execution_count": 10,
     "metadata": {},
     "output_type": "execute_result"
    }
   ],
   "source": [
    "1/4* -0.0"
   ]
  },
  {
   "cell_type": "code",
   "execution_count": 11,
   "id": "c22b3c9c",
   "metadata": {},
   "outputs": [
    {
     "data": {
      "text/plain": [
       "0.6887218755408672"
      ]
     },
     "execution_count": 11,
     "metadata": {},
     "output_type": "execute_result"
    }
   ],
   "source": [
    "0.6887218755408672+ 0"
   ]
  },
  {
   "cell_type": "code",
   "execution_count": 12,
   "id": "6c90e78b",
   "metadata": {},
   "outputs": [
    {
     "data": {
      "text/plain": [
       "0.31127812445913283"
      ]
     },
     "execution_count": 12,
     "metadata": {},
     "output_type": "execute_result"
    }
   ],
   "source": [
    "1-0.6887218755408672"
   ]
  },
  {
   "cell_type": "markdown",
   "id": "6ea31928",
   "metadata": {},
   "source": [
    " the information gain for X child is 0.31127812445913283"
   ]
  },
  {
   "cell_type": "markdown",
   "id": "d3fd1396",
   "metadata": {},
   "source": [
    "# Child node y "
   ]
  },
  {
   "cell_type": "code",
   "execution_count": 13,
   "id": "85b5a430",
   "metadata": {},
   "outputs": [
    {
     "data": {
      "text/plain": [
       "-0.0"
      ]
     },
     "execution_count": 13,
     "metadata": {},
     "output_type": "execute_result"
    }
   ],
   "source": [
    "(-2/2) * (np.log2(2/2))"
   ]
  },
  {
   "cell_type": "code",
   "execution_count": 14,
   "id": "c8ed1ea4",
   "metadata": {},
   "outputs": [
    {
     "data": {
      "text/plain": [
       "-0.0"
      ]
     },
     "execution_count": 14,
     "metadata": {},
     "output_type": "execute_result"
    }
   ],
   "source": [
    "+(-2/2) *(np.log2(2/2))"
   ]
  },
  {
   "cell_type": "code",
   "execution_count": 15,
   "id": "14c3ff1e",
   "metadata": {},
   "outputs": [
    {
     "data": {
      "text/plain": [
       "0"
      ]
     },
     "execution_count": 15,
     "metadata": {},
     "output_type": "execute_result"
    }
   ],
   "source": [
    "0+0"
   ]
  },
  {
   "cell_type": "markdown",
   "id": "b8ce9860",
   "metadata": {},
   "source": [
    "entropy for y child node is 0"
   ]
  },
  {
   "cell_type": "code",
   "execution_count": 16,
   "id": "12147a3a",
   "metadata": {},
   "outputs": [
    {
     "data": {
      "text/plain": [
       "1"
      ]
     },
     "execution_count": 16,
     "metadata": {},
     "output_type": "execute_result"
    }
   ],
   "source": [
    "1-0"
   ]
  },
  {
   "cell_type": "markdown",
   "id": "72d19068",
   "metadata": {},
   "source": [
    " The information gain is 1"
   ]
  },
  {
   "cell_type": "markdown",
   "id": "f8cd4356",
   "metadata": {},
   "source": [
    "# Child node Z"
   ]
  },
  {
   "cell_type": "code",
   "execution_count": 17,
   "id": "b4f82eda",
   "metadata": {},
   "outputs": [
    {
     "data": {
      "text/plain": [
       "0.5"
      ]
     },
     "execution_count": 17,
     "metadata": {},
     "output_type": "execute_result"
    }
   ],
   "source": [
    "(-1/2)*(np.log2(1/2))"
   ]
  },
  {
   "cell_type": "code",
   "execution_count": 18,
   "id": "9b1a6378",
   "metadata": {},
   "outputs": [
    {
     "data": {
      "text/plain": [
       "0.5"
      ]
     },
     "execution_count": 18,
     "metadata": {},
     "output_type": "execute_result"
    }
   ],
   "source": [
    "(-1/2)*(np.log2(1/2))"
   ]
  },
  {
   "cell_type": "code",
   "execution_count": 19,
   "id": "bd8d7222",
   "metadata": {},
   "outputs": [
    {
     "data": {
      "text/plain": [
       "1.0"
      ]
     },
     "execution_count": 19,
     "metadata": {},
     "output_type": "execute_result"
    }
   ],
   "source": [
    "0.5+0.5"
   ]
  },
  {
   "cell_type": "code",
   "execution_count": 20,
   "id": "c75719fa",
   "metadata": {},
   "outputs": [
    {
     "data": {
      "text/plain": [
       "0.5"
      ]
     },
     "execution_count": 20,
     "metadata": {},
     "output_type": "execute_result"
    }
   ],
   "source": [
    "2/4*1"
   ]
  },
  {
   "cell_type": "code",
   "execution_count": 21,
   "id": "ee3557d6",
   "metadata": {},
   "outputs": [
    {
     "data": {
      "text/plain": [
       "0.5"
      ]
     },
     "execution_count": 21,
     "metadata": {},
     "output_type": "execute_result"
    }
   ],
   "source": [
    "2/4*1"
   ]
  },
  {
   "cell_type": "code",
   "execution_count": 23,
   "id": "20654152",
   "metadata": {},
   "outputs": [
    {
     "data": {
      "text/plain": [
       "0"
      ]
     },
     "execution_count": 23,
     "metadata": {},
     "output_type": "execute_result"
    }
   ],
   "source": [
    "1-1"
   ]
  },
  {
   "cell_type": "code",
   "execution_count": null,
   "id": "0ae59862",
   "metadata": {},
   "outputs": [],
   "source": []
  }
 ],
 "metadata": {
  "kernelspec": {
   "display_name": "Python 3",
   "language": "python",
   "name": "python3"
  },
  "language_info": {
   "codemirror_mode": {
    "name": "ipython",
    "version": 3
   },
   "file_extension": ".py",
   "mimetype": "text/x-python",
   "name": "python",
   "nbconvert_exporter": "python",
   "pygments_lexer": "ipython3",
   "version": "3.8.8"
  }
 },
 "nbformat": 4,
 "nbformat_minor": 5
}
