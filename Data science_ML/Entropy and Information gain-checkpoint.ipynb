{
 "cells": [
  {
   "cell_type": "code",
   "execution_count": 1,
   "id": "cbeba994",
   "metadata": {},
   "outputs": [],
   "source": [
    "import numpy as np"
   ]
  },
  {
   "cell_type": "code",
   "execution_count": 2,
   "id": "9f19d6dc",
   "metadata": {},
   "outputs": [
    {
     "data": {
      "text/plain": [
       "-1.5849625007211563"
      ]
     },
     "execution_count": 2,
     "metadata": {},
     "output_type": "execute_result"
    }
   ],
   "source": [
    "np.log2(1/3)"
   ]
  },
  {
   "cell_type": "code",
   "execution_count": 3,
   "id": "0e7dc9ab",
   "metadata": {},
   "outputs": [
    {
     "data": {
      "text/plain": [
       "-1.584962500721156"
      ]
     },
     "execution_count": 3,
     "metadata": {},
     "output_type": "execute_result"
    }
   ],
   "source": [
    "(np.log10(1/3))/(np.log10(2))"
   ]
  },
  {
   "cell_type": "code",
   "execution_count": 4,
   "id": "2207b4de",
   "metadata": {},
   "outputs": [
    {
     "data": {
      "text/plain": [
       "0.5283208335737186"
      ]
     },
     "execution_count": 4,
     "metadata": {},
     "output_type": "execute_result"
    }
   ],
   "source": [
    "(-1/3)* (np.log10(1/3)/(np.log10(2)))"
   ]
  },
  {
   "cell_type": "code",
   "execution_count": 5,
   "id": "936e8e4c",
   "metadata": {},
   "outputs": [
    {
     "data": {
      "text/plain": [
       "0.38997500048077083"
      ]
     },
     "execution_count": 5,
     "metadata": {},
     "output_type": "execute_result"
    }
   ],
   "source": [
    "(-2/3) *(np.log10(2/3)/(np.log10(2)))"
   ]
  },
  {
   "cell_type": "code",
   "execution_count": 7,
   "id": "5e833b17",
   "metadata": {},
   "outputs": [
    {
     "data": {
      "text/plain": [
       "0.9182958340544894"
      ]
     },
     "execution_count": 7,
     "metadata": {},
     "output_type": "execute_result"
    }
   ],
   "source": [
    "0.5283208335737186+0.38997500048077083"
   ]
  },
  {
   "cell_type": "code",
   "execution_count": 9,
   "id": "4fb121d5",
   "metadata": {},
   "outputs": [],
   "source": [
    "# entropy is equal to 0.9182958340544894"
   ]
  },
  {
   "cell_type": "code",
   "execution_count": 11,
   "id": "22420b62",
   "metadata": {},
   "outputs": [
    {
     "data": {
      "text/plain": [
       "-0.0"
      ]
     },
     "execution_count": 11,
     "metadata": {},
     "output_type": "execute_result"
    }
   ],
   "source": [
    "(-3/3) *(np.log10(3/3)/(np.log10(2)))"
   ]
  },
  {
   "cell_type": "code",
   "execution_count": null,
   "id": "77be2586",
   "metadata": {},
   "outputs": [],
   "source": []
  },
  {
   "cell_type": "code",
   "execution_count": null,
   "id": "8ba1cc8a",
   "metadata": {},
   "outputs": [],
   "source": []
  },
  {
   "cell_type": "code",
   "execution_count": null,
   "id": "b5380447",
   "metadata": {},
   "outputs": [],
   "source": []
  },
  {
   "cell_type": "code",
   "execution_count": null,
   "id": "415ed513",
   "metadata": {},
   "outputs": [],
   "source": []
  },
  {
   "cell_type": "code",
   "execution_count": null,
   "id": "9b4665a1",
   "metadata": {},
   "outputs": [],
   "source": []
  }
 ],
 "metadata": {
  "kernelspec": {
   "display_name": "Python 3",
   "language": "python",
   "name": "python3"
  },
  "language_info": {
   "codemirror_mode": {
    "name": "ipython",
    "version": 3
   },
   "file_extension": ".py",
   "mimetype": "text/x-python",
   "name": "python",
   "nbconvert_exporter": "python",
   "pygments_lexer": "ipython3",
   "version": "3.8.8"
  }
 },
 "nbformat": 4,
 "nbformat_minor": 5
}
