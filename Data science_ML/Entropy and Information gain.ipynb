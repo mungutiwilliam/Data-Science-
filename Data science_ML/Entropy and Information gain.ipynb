{
 "cells": [
  {
   "cell_type": "code",
   "execution_count": 1,
   "id": "cbeba994",
   "metadata": {},
   "outputs": [],
   "source": [
    "import numpy as np"
   ]
  },
  {
   "cell_type": "code",
   "execution_count": 2,
   "id": "9f19d6dc",
   "metadata": {},
   "outputs": [
    {
     "data": {
      "text/plain": [
       "-1.5849625007211563"
      ]
     },
     "execution_count": 2,
     "metadata": {},
     "output_type": "execute_result"
    }
   ],
   "source": [
    "np.log2(1/3)"
   ]
  },
  {
   "cell_type": "code",
   "execution_count": 3,
   "id": "0e7dc9ab",
   "metadata": {},
   "outputs": [
    {
     "data": {
      "text/plain": [
       "-1.584962500721156"
      ]
     },
     "execution_count": 3,
     "metadata": {},
     "output_type": "execute_result"
    }
   ],
   "source": [
    "(np.log10(1/3))/(np.log10(2))"
   ]
  },
  {
   "cell_type": "code",
   "execution_count": 4,
   "id": "2207b4de",
   "metadata": {},
   "outputs": [
    {
     "data": {
      "text/plain": [
       "0.5283208335737186"
      ]
     },
     "execution_count": 4,
     "metadata": {},
     "output_type": "execute_result"
    }
   ],
   "source": [
    "(-1/3)* (np.log10(1/3)/(np.log10(2)))"
   ]
  },
  {
   "cell_type": "code",
   "execution_count": 5,
   "id": "936e8e4c",
   "metadata": {},
   "outputs": [
    {
     "data": {
      "text/plain": [
       "0.38997500048077083"
      ]
     },
     "execution_count": 5,
     "metadata": {},
     "output_type": "execute_result"
    }
   ],
   "source": [
    "(-2/3) *(np.log10(2/3)/(np.log10(2)))"
   ]
  },
  {
   "cell_type": "code",
   "execution_count": 6,
   "id": "5e833b17",
   "metadata": {},
   "outputs": [
    {
     "data": {
      "text/plain": [
       "0.9182958340544894"
      ]
     },
     "execution_count": 6,
     "metadata": {},
     "output_type": "execute_result"
    }
   ],
   "source": [
    "0.5283208335737186+0.38997500048077083"
   ]
  },
  {
   "cell_type": "code",
   "execution_count": 7,
   "id": "4fb121d5",
   "metadata": {},
   "outputs": [],
   "source": [
    "# entropy is equal to 0.9182958340544894"
   ]
  },
  {
   "cell_type": "code",
   "execution_count": 8,
   "id": "22420b62",
   "metadata": {},
   "outputs": [
    {
     "data": {
      "text/plain": [
       "-0.0"
      ]
     },
     "execution_count": 8,
     "metadata": {},
     "output_type": "execute_result"
    }
   ],
   "source": [
    "(-3/3) *(np.log10(3/3)/(np.log10(2)))"
   ]
  },
  {
   "cell_type": "code",
   "execution_count": 9,
   "id": "77be2586",
   "metadata": {},
   "outputs": [
    {
     "data": {
      "text/plain": [
       "0.5238824662870492"
      ]
     },
     "execution_count": 9,
     "metadata": {},
     "output_type": "execute_result"
    }
   ],
   "source": [
    "(-3/7)*(np.log2(3/7))"
   ]
  },
  {
   "cell_type": "code",
   "execution_count": 10,
   "id": "8ba1cc8a",
   "metadata": {},
   "outputs": [
    {
     "data": {
      "text/plain": [
       "0.46134566974720237"
      ]
     },
     "execution_count": 10,
     "metadata": {},
     "output_type": "execute_result"
    }
   ],
   "source": [
    "(-4/7)*(np.log2(4/7))"
   ]
  },
  {
   "cell_type": "code",
   "execution_count": 11,
   "id": "02bca801",
   "metadata": {},
   "outputs": [
    {
     "data": {
      "text/plain": [
       "0.9852281360342515"
      ]
     },
     "execution_count": 11,
     "metadata": {},
     "output_type": "execute_result"
    }
   ],
   "source": [
    "0.46134566974720237+0.5238824662870492"
   ]
  },
  {
   "cell_type": "code",
   "execution_count": 12,
   "id": "11f750de",
   "metadata": {},
   "outputs": [],
   "source": [
    "# parent node"
   ]
  },
  {
   "cell_type": "code",
   "execution_count": 13,
   "id": "882d64e1",
   "metadata": {},
   "outputs": [
    {
     "data": {
      "text/plain": [
       "0.5131166476570933"
      ]
     },
     "execution_count": 13,
     "metadata": {},
     "output_type": "execute_result"
    }
   ],
   "source": [
    "(-14/30)*(np.log2(14/30))"
   ]
  },
  {
   "cell_type": "code",
   "execution_count": 14,
   "id": "19c56d3c",
   "metadata": {},
   "outputs": [
    {
     "data": {
      "text/plain": [
       "0.48367498432454326"
      ]
     },
     "execution_count": 14,
     "metadata": {},
     "output_type": "execute_result"
    }
   ],
   "source": [
    "(-16/30)*(np.log2(16/30))"
   ]
  },
  {
   "cell_type": "code",
   "execution_count": 15,
   "id": "a5d28fdd",
   "metadata": {},
   "outputs": [
    {
     "data": {
      "text/plain": [
       "0.9967916319816366"
      ]
     },
     "execution_count": 15,
     "metadata": {},
     "output_type": "execute_result"
    }
   ],
   "source": [
    "0.5131166476570933+0.48367498432454326"
   ]
  },
  {
   "cell_type": "code",
   "execution_count": 16,
   "id": "0ef5c954",
   "metadata": {},
   "outputs": [],
   "source": [
    "# 0.9967916319816366 entropy of parent node"
   ]
  },
  {
   "cell_type": "code",
   "execution_count": 17,
   "id": "f6437765",
   "metadata": {},
   "outputs": [],
   "source": [
    "# left child"
   ]
  },
  {
   "cell_type": "code",
   "execution_count": 18,
   "id": "f3dc8bc3",
   "metadata": {},
   "outputs": [
    {
     "data": {
      "text/plain": [
       "0.28464920908777636"
      ]
     },
     "execution_count": 18,
     "metadata": {},
     "output_type": "execute_result"
    }
   ],
   "source": [
    "(-1/13)*(np.log2(1/13))"
   ]
  },
  {
   "cell_type": "code",
   "execution_count": 19,
   "id": "33fe3197",
   "metadata": {},
   "outputs": [
    {
     "data": {
      "text/plain": [
       "0.1065943545414793"
      ]
     },
     "execution_count": 19,
     "metadata": {},
     "output_type": "execute_result"
    }
   ],
   "source": [
    "(-12/13)*(np.log2(12/13))"
   ]
  },
  {
   "cell_type": "code",
   "execution_count": 20,
   "id": "56cd872e",
   "metadata": {},
   "outputs": [
    {
     "data": {
      "text/plain": [
       "0.39124356362925566"
      ]
     },
     "execution_count": 20,
     "metadata": {},
     "output_type": "execute_result"
    }
   ],
   "source": [
    "0.28464920908777636+0.1065943545414793"
   ]
  },
  {
   "cell_type": "code",
   "execution_count": 21,
   "id": "7a9c59c5",
   "metadata": {},
   "outputs": [],
   "source": [
    "# entropy of left child is 0.39124356362925566"
   ]
  },
  {
   "cell_type": "code",
   "execution_count": 22,
   "id": "41f83860",
   "metadata": {},
   "outputs": [],
   "source": [
    "# right child"
   ]
  },
  {
   "cell_type": "code",
   "execution_count": 23,
   "id": "91181949",
   "metadata": {},
   "outputs": [
    {
     "data": {
      "text/plain": [
       "0.49116772735302106"
      ]
     },
     "execution_count": 23,
     "metadata": {},
     "output_type": "execute_result"
    }
   ],
   "source": [
    "(-4/17)* (np.log2(4/17))"
   ]
  },
  {
   "cell_type": "code",
   "execution_count": 24,
   "id": "c915a629",
   "metadata": {},
   "outputs": [
    {
     "data": {
      "text/plain": [
       "0.29595885884824796"
      ]
     },
     "execution_count": 24,
     "metadata": {},
     "output_type": "execute_result"
    }
   ],
   "source": [
    "(-13/17)* (np.log2(13/17))"
   ]
  },
  {
   "cell_type": "code",
   "execution_count": 25,
   "id": "84ffb9e1",
   "metadata": {},
   "outputs": [
    {
     "data": {
      "text/plain": [
       "0.7871265862012691"
      ]
     },
     "execution_count": 25,
     "metadata": {},
     "output_type": "execute_result"
    }
   ],
   "source": [
    "0.29595885884824796+0.49116772735302106"
   ]
  },
  {
   "cell_type": "code",
   "execution_count": 26,
   "id": "eee9b922",
   "metadata": {},
   "outputs": [],
   "source": [
    "# entropy of right child is 0.7871265862012691"
   ]
  },
  {
   "cell_type": "markdown",
   "id": "08037556",
   "metadata": {},
   "source": [
    "Calculate the average entropy of the hildren in order to determine the best child to pick next in the decision tree"
   ]
  },
  {
   "cell_type": "code",
   "execution_count": 27,
   "id": "3d984381",
   "metadata": {},
   "outputs": [],
   "source": [
    "# first get the average contribution of the entropy"
   ]
  },
  {
   "cell_type": "markdown",
   "id": "b1190993",
   "metadata": {},
   "source": [
    "Weighted average = ((number of items inherited by the child node) /(total number of items on the parent node)) * the entropy of each child"
   ]
  },
  {
   "cell_type": "code",
   "execution_count": 28,
   "id": "cd004de7",
   "metadata": {},
   "outputs": [],
   "source": [
    "# left child "
   ]
  },
  {
   "cell_type": "code",
   "execution_count": 29,
   "id": "51aaea22",
   "metadata": {},
   "outputs": [
    {
     "data": {
      "text/plain": [
       "0.16953887757267747"
      ]
     },
     "execution_count": 29,
     "metadata": {},
     "output_type": "execute_result"
    }
   ],
   "source": [
    "0.39124356362925566 *(13/30)"
   ]
  },
  {
   "cell_type": "code",
   "execution_count": 30,
   "id": "51973649",
   "metadata": {},
   "outputs": [],
   "source": [
    "# right child"
   ]
  },
  {
   "cell_type": "code",
   "execution_count": 31,
   "id": "54c99feb",
   "metadata": {},
   "outputs": [
    {
     "data": {
      "text/plain": [
       "0.4460383988473858"
      ]
     },
     "execution_count": 31,
     "metadata": {},
     "output_type": "execute_result"
    }
   ],
   "source": [
    "0.7871265862012691 *(17/30)"
   ]
  },
  {
   "cell_type": "code",
   "execution_count": 32,
   "id": "0044f95a",
   "metadata": {},
   "outputs": [
    {
     "data": {
      "text/plain": [
       "0.6155772764200632"
      ]
     },
     "execution_count": 32,
     "metadata": {},
     "output_type": "execute_result"
    }
   ],
   "source": [
    "0.4460383988473858 + 0.16953887757267747"
   ]
  },
  {
   "cell_type": "code",
   "execution_count": 33,
   "id": "264b8c52",
   "metadata": {},
   "outputs": [],
   "source": [
    "# 0.6155772764200632 is the average entropy of the children"
   ]
  },
  {
   "cell_type": "markdown",
   "id": "54f74c55",
   "metadata": {},
   "source": [
    "## Information gain"
   ]
  },
  {
   "cell_type": "code",
   "execution_count": 34,
   "id": "c7748080",
   "metadata": {},
   "outputs": [],
   "source": [
    "# information gain will determine the order of the children node"
   ]
  },
  {
   "cell_type": "markdown",
   "id": "8c9310da",
   "metadata": {},
   "source": [
    "formula = entropy of parent - average entropy of the children"
   ]
  },
  {
   "cell_type": "code",
   "execution_count": 36,
   "id": "d29c3b4d",
   "metadata": {},
   "outputs": [],
   "source": [
    " information_gain = 0.9967916319816366 - 0.6155772764200632"
   ]
  },
  {
   "cell_type": "code",
   "execution_count": 37,
   "id": "47177784",
   "metadata": {},
   "outputs": [
    {
     "data": {
      "text/plain": [
       "0.38121435556157335"
      ]
     },
     "execution_count": 37,
     "metadata": {},
     "output_type": "execute_result"
    }
   ],
   "source": [
    "information_gain"
   ]
  },
  {
   "cell_type": "code",
   "execution_count": null,
   "id": "272e9528",
   "metadata": {},
   "outputs": [],
   "source": []
  }
 ],
 "metadata": {
  "kernelspec": {
   "display_name": "Python 3",
   "language": "python",
   "name": "python3"
  },
  "language_info": {
   "codemirror_mode": {
    "name": "ipython",
    "version": 3
   },
   "file_extension": ".py",
   "mimetype": "text/x-python",
   "name": "python",
   "nbconvert_exporter": "python",
   "pygments_lexer": "ipython3",
   "version": "3.8.8"
  }
 },
 "nbformat": 4,
 "nbformat_minor": 5
}
